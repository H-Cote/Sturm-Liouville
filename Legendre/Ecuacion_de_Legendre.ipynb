{
 "cells": [
  {
   "cell_type": "markdown",
   "metadata": {},
   "source": [
    "# Ecuación de Legendre"
   ]
  },
  {
   "cell_type": "markdown",
   "metadata": {},
   "source": [
    "## Introducción"
   ]
  },
  {
   "cell_type": "markdown",
   "metadata": {
    "collapsed": true
   },
   "source": [
    "Dada la ecuación de Sturm–Liouville \n",
    " \\begin{align}\n",
    "{d\\over dx}\\left[p(x){d\\over dx}y(x)\\right]-q(x)y(x)+\\lambda r(x)y(x)=0\n",
    "\\end{align}\n",
    "\n",
    "Con las condiciones de frontera:\n",
    "\n",
    " \\begin{align}\n",
    "\\alpha_1 y(a)+\\alpha_2 y'(a)=0\\\\ \n",
    "\\beta_1y(b)+\\beta_2 y'(b)=0 \n",
    "\\end{align}\n",
    "\n",
    "donde $a<x<b$ "
   ]
  },
  {
   "cell_type": "markdown",
   "metadata": {},
   "source": [
    "Podemos obtener la **ecuación de diferencial de Legendre**: \n",
    "\\begin{align}\n",
    "\\\\ \\frac{d}{dx}\\left[1-x^2\\frac{dy}{dx}\\right]+n(n+1)y=0\n",
    "\\end{align}\n",
    "\n",
    "donde:\n",
    "\n",
    "\\begin{align}\n",
    "p(x)&=1-x^2&\n",
    " q(x)&=0\\\\\n",
    "r(x)&=1&\n",
    "\\lambda&=n(n+1)\n",
    "\\end{align}\n",
    "\n",
    "con\n",
    "$-1\\leq x \\leq1$ "
   ]
  },
  {
   "cell_type": "markdown",
   "metadata": {},
   "source": [
    "A continuación escribiremos la ecuación en su forma más usual. \n",
    "\n",
    "Como $y'=\\frac{dy}{dx}$\n",
    "\\begin{align}\n",
    "\\\\ \\frac{d}{dx}\\left[1-x^2y'\\right]+n(n+1)y=0\n",
    "\\end{align}\n",
    "\n",
    "Usando a la fórmula del producto de derivadas en el término $\\frac{d}{dx}\\left[1-x^2y'\\right]$:\n",
    "\n",
    "\\begin{align}\n",
    "\\\\f'=u'v+v'u\n",
    "\\end{align}\n",
    "\n",
    "\\begin{align}\n",
    "u&=1-x^2&\n",
    "v&=y'\\\\\n",
    "u'&=-2x&\n",
    "v'&=y''\n",
    "\\end{align}\n",
    "\n",
    "entonces\n",
    "\n",
    "\\begin{align}\n",
    "\\\\\\frac{d}{dx}\\left[xy'\\right]=-2xy'+y''(1-x^2)= (1-x^2)y''-2xy'\n",
    "\\end{align}\n",
    "\n",
    "Sustituyendo en la ecuación obtenemos:\n",
    "\n",
    "\\begin{align}\n",
    "\\\\ (1-x^2)y''-2xy'+n(n+1)y=0\n",
    "\\end{align}"
   ]
  },
  {
   "cell_type": "markdown",
   "metadata": {},
   "source": [
    "## Soluciones"
   ]
  },
  {
   "cell_type": "code",
   "execution_count": null,
   "metadata": {
    "collapsed": true
   },
   "outputs": [],
   "source": []
  },
  {
   "cell_type": "markdown",
   "metadata": {},
   "source": [
    "# Relación de recurrencia"
   ]
  },
  {
   "cell_type": "markdown",
   "metadata": {},
   "source": [
    "Los polinomios de Legendre pueden construirse usando la relación de recurrencia:\n",
    "\n",
    "Donde los primeros dos términos son: \n",
    "\\begin{align}\n",
    "\\\\ P_{0} = 1\n",
    "\\\\ P_{1} = x\n",
    "\\end{align}\n",
    "\n",
    "\\begin{align}\n",
    "\\\\ (n+1) P_{n+1} = (2n+1) x P_n - n P_{n-1}\n",
    "\\end{align}\n",
    "\n",
    "Entonces\n",
    "\n",
    "\\begin{align}\n",
    "\\\\ P_{n+1} = \\frac{1}{(n+1)}\\left[(2n+1) x P_n - n P_{n-1}\\right]\n",
    "\\end{align}\n",
    "\n",
    "\n",
    "Para calcular $P_{n}$ debemos modificar la expresión anterior de la siguiente forma: \n",
    "\n",
    "\\begin{align}\n",
    "\\\\ P_{n} = \\frac{1}{n}\\left[(2(n-1)+1) x P_{n-1} - (n-1) P_{n-2}\\right]\n",
    "\\end{align}\n",
    "\n",
    "Por ejemplo, si queremos calcular $P_{2}$:\n",
    "\n",
    "\\begin{align}\n",
    "\\\\ P_{2}& = \\frac{1}{2}\\left[(2(2-1)+1) x P_{2-1} - (2-1) P_{2-2}\\right]&\\\\\n",
    " P_{2}& = \\frac{1}{2}\\left[(2(1)+1) x P_{1} - (1) P_{0}\\right]&\\\\\n",
    " P_{2}& = \\frac{1}{2}\\left[3 x P_{1} - P_{0}\\right]&\n",
    "\\end{align}\n",
    "\n",
    "Donde $P_{0}$ y $P_{1}$ son términos conocidos y $x$ es el punto de evaluación del polinomio."
   ]
  },
  {
   "cell_type": "markdown",
   "metadata": {},
   "source": [
    "En Julia, teniendo un vector $v=[9,8,7,6,5]$, el término $v[0]$ no está definido, pues la numeración de los elementos del vector inicia en $1$. De este modo, Julia tendrá definido $v[1]=9$\n",
    "\n",
    "Con base en lo anterior, si contruimos un vector $p$ tal que $p=[P_{0},P_{1},P_{2},...,P_{n}]$ tendremos:\n",
    "\n",
    "\\begin{align}\n",
    "\\\\ p[1] = P_{0}\n",
    "\\\\ p[2]= P_{1}\n",
    "\\end{align}\n",
    "\n",
    "y en general\n",
    "\n",
    "\\begin{align}\n",
    "\\\\ p[n] = P_{n-1}\n",
    "\\end{align}\n",
    "\n",
    "Por lo tanto, debemos modificar la relación de recurrencia para obtener $P_{n-1}$\n",
    "\n",
    "\\begin{align}\n",
    "\\\\ P_{n-1} = \\frac{1}{(n-1)}\\left[(2(n-2)+1) x P_{n-2} - (n-2) P_{n-3}\\right]\n",
    "\\end{align}\n",
    "\n",
    "\n",
    "En términos del vector $p$:\n",
    "\n",
    "\\begin{align}\n",
    "\\\\ p[n] = \\frac{1}{(n-1)}\\left[(2(n-2)+1) x p[n-1] - (n-2) p[n-2]\\right]\n",
    "\\end{align}\n",
    "\n",
    "la cual, es la fórmula que utilizaremos en el programa."
   ]
  },
  {
   "cell_type": "markdown",
   "metadata": {},
   "source": [
    "Si queremos calcular $P_{2}$, esto es:\n",
    "\\begin{align}\n",
    "\\\\ p[3] = P_{2}\n",
    "\\end{align}\n",
    "\n",
    "de donde vemos que $n=3$\n",
    "\n",
    "Aplicando la relación de recurrencia: \n",
    "\n",
    "\\begin{align}\n",
    "\\\\ P_{3-1} &= \\frac{1}{(3-1)}\\left[(2(3-2)+1) x P_{3-2} - (3-2) P_{3-3}\\right]&\n",
    "\\\\ P_{2} &= \\frac{1}{2}\\left[(2(1)+1) x P_{1} - (1) P_{0}\\right]&\n",
    "\\\\ P_{2} &= \\frac{1}{2}\\left[3 x P_{1} - P_{0}\\right]&\n",
    "\\end{align}\n",
    "\n",
    "Por otro lado, en términos del vector $p$:\n",
    "\n",
    "\\begin{align}\n",
    "\\\\ p[3] &= \\frac{1}{2}\\left[(2(1)+1) x p[2] - (1) p[1]\\right]&\n",
    "\\\\ p[3] &= \\frac{1}{2}\\left[3 x p[2] - p[1]\\right]&\n",
    "\\end{align}\n",
    "\n",
    "Como\n",
    "\n",
    "\\begin{align}\n",
    "\\\\ p[1] = P_{0} =1\n",
    "\\\\ p[2]= P_{1} = x\n",
    "\\end{align}\n",
    "\n",
    "\\begin{align}\n",
    "\\\\ P_{2} &= \\frac{1}{2}\\left[3 x^2 - 1\\right]&\n",
    "\\end{align}\n",
    "o bien\n",
    "\n",
    "\\begin{align}\n",
    "\\\\ p[3] &= \\frac{1}{2}\\left[3 x^2 - 1\\right]&\n",
    "\\end{align}"
   ]
  },
  {
   "cell_type": "markdown",
   "metadata": {},
   "source": [
    "## Código"
   ]
  },
  {
   "cell_type": "code",
   "execution_count": 2,
   "metadata": {
    "collapsed": true
   },
   "outputs": [],
   "source": [
    "using PyPlot\n",
    "#using Formatting"
   ]
  },
  {
   "cell_type": "code",
   "execution_count": 3,
   "metadata": {},
   "outputs": [
    {
     "data": {
      "text/plain": [
       "p_legendre (generic function with 1 method)"
      ]
     },
     "execution_count": 3,
     "metadata": {},
     "output_type": "execute_result"
    }
   ],
   "source": [
    "function p_legendre(m,x)\n",
    "    \n",
    "    n=m+1\n",
    "    p=zeros(n)\n",
    "    \n",
    "   p[1]=1\n",
    "   p[2]=x\n",
    "    \n",
    "    if n==1\n",
    "        \n",
    "        return p[1]\n",
    "        \n",
    "    elseif n==2\n",
    "        \n",
    "        return p[2]\n",
    "        \n",
    "    else\n",
    "    \n",
    "        for i=3:n\n",
    "            p[i]=((2(i-2)+1)*x*p[i-1]-(i-2)p[i-2])/(i-1)\n",
    "            #p[i]=(((2*i))*x*p[i-1]-(i-1)*p[i-2])/(i+1)\n",
    "        end\n",
    "\n",
    "        return p\n",
    "    end\n",
    "    \n",
    "    \n",
    "    \n",
    "end    "
   ]
  },
  {
   "cell_type": "markdown",
   "metadata": {},
   "source": [
    "### Pruebas "
   ]
  },
  {
   "cell_type": "code",
   "execution_count": 3,
   "metadata": {},
   "outputs": [
    {
     "data": {
      "text/plain": [
       "3-element Array{Float64,1}:\n",
       "  1.0\n",
       "  0.0\n",
       " -0.5"
      ]
     },
     "execution_count": 3,
     "metadata": {},
     "output_type": "execute_result"
    }
   ],
   "source": [
    "p_legendre(2,0)"
   ]
  },
  {
   "cell_type": "code",
   "execution_count": 4,
   "metadata": {},
   "outputs": [
    {
     "data": {
      "text/plain": [
       "3-element Array{Float64,1}:\n",
       "  1.0\n",
       "  8.0\n",
       " 95.5"
      ]
     },
     "execution_count": 4,
     "metadata": {},
     "output_type": "execute_result"
    }
   ],
   "source": [
    "p_legendre(2,8)"
   ]
  },
  {
   "cell_type": "markdown",
   "metadata": {},
   "source": [
    "### Gráfica"
   ]
  },
  {
   "cell_type": "code",
   "execution_count": 5,
   "metadata": {},
   "outputs": [
    {
     "data": {
      "image/png": "[encoded data removed]",
      "text/plain": [
       "PyPlot.Figure(PyObject <matplotlib.figure.Figure object at 0x7fb573b226a0>)"
      ]
     },
     "metadata": {},
     "output_type": "display_data"
    }
   ],
   "source": [
    "#Conjuntos de datos\n",
    "x = linspace(-1.5, 1.5, 1000)\n",
    "n=4\n",
    "y=[]\n",
    "for i=1:length(x)\n",
    "    yy= p_legendre(n,x[i])\n",
    "    y=push!(y,yy)        \n",
    "end \n",
    "\n",
    "#Gráfica\n",
    "\n",
    "fig,ax = subplots()\n",
    "ax[:set_ylim](-1, 2.0)\n",
    "ax[:set_xlim](-1, 1.0)\n",
    "title(\"Polinomios de Legendre\")#Título de la gráfica\n",
    "xlabel(\"\\$x\\$\") #Etiqueta para el eje X\n",
    "ylabel(\" \\$P_n (x)\\$\")#Etiqueta para el eje Y\n",
    " \n",
    "axhline(0, color=\"red\") \n",
    "grid()\n",
    "\n",
    "plot(x,y,label=\"\\$P_{n}(x)\\$\") #label=r\"$P_{}(x)$\".format(n)\n",
    " \n",
    "legend(loc=\"best\")\n",
    "show()"
   ]
  },
  {
   "cell_type": "markdown",
   "metadata": {
    "collapsed": true
   },
   "source": [
    "# Aplicación 1"
   ]
  },
  {
   "cell_type": "markdown",
   "metadata": {
    "collapsed": true
   },
   "source": [
    "Los polinomios de Legendre tienen aplicación en la mecánica cuántica. A continuación se presenta el esquema del desarrollo que llevaremos a cabo para mostrar la relación de los polinomios con los armónicos esféricos [3]."
   ]
  },
  {
   "cell_type": "markdown",
   "metadata": {},
   "source": [
    "* Obtendremos la ecuación de Schrödinger independiente del tiempo en coordenadas esféricas.\n",
    "* En estás coordenadas la función de onda dependerá de $r$,$\\theta$ y $\\phi$, por lo que aplicarémos el método de separción de variables con el objetivo de expresar la ecuación de Schrödinger como la suma de una parte radial (dependiendo de $r$ con $R(r)$) más una parte angular (que depende de $\\theta$ y $\\phi$ con $Y(\\theta,\\phi)$). Convenientemente esto dará lugar a una expresión en términos de $l$ (número cuántico orbital). \n",
    "* La parte angular de la ecuación de Schrödinger tiene la función $Y(\\theta,\\phi)$. Por lo cual, aplicaremos  nuevamente el método de separación de variables para expresar la parte angular como la suma de una parte que depende de $\\theta$ (con la función $\\Theta(\\theta)$) y otra que depende de $\\phi$ (con la función $\\Phi(\\phi)$).\n",
    "* Obtendremos las soluciones (expresión explícita) de cada una de las funciones obtenidas: $R(r)$, $\\Theta(\\theta)$ y $\\Phi(\\phi)$\n",
    "* La solución para la parte que depende de $\\phi$ será:\n",
    "\\begin{align}\n",
    "\\\\ \\Phi(\\phi) &= e^{im\\phi}&\n",
    "\\end{align}\n",
    "* La solución para la parte que depende de $\\theta$ será:\n",
    "\\begin{align}\n",
    "\\\\ \\Theta(\\theta) &= AP^{m}_l(cos(\\theta))&\n",
    "\\end{align}\n",
    "\n",
    "Con $P^{m}_l(x)\\equiv(1-x^2)^{ \\frac{\\left | m \\right |}{2}} \\left(\\frac{d}{dx} \\right)^{\\left | m \\right |}P_l(x)$ \n",
    "\n",
    "Donde $P_l$ es el polinomio de Legendre de $l$-ésimo grado. \n",
    "* La solución para la parte que depende de $r$ será:\n",
    "\\begin{align}\n",
    "\\\\ R(r) &= Ae^{\\frac{r}{a_0}}&\n",
    "\\end{align}\n",
    "* A partir de las soluciones angulares $\\Theta(\\theta)$ y $ \\Phi(\\phi)$ obtenemos la solución a la parte angular $Y(\\theta,\\phi)$:\n",
    "\\begin{align}\n",
    "\\\\ Y^{m}_l(\\theta,\\phi) &=\\epsilon \\sqrt{\\frac{(2i+1)(l-\\left | m \\right |)!}{4\\pi(l+\\left | m \\right |)!}}e^{im\\phi}P^{m}_l(cos(\\theta))&\n",
    "\\end{align}\n",
    "\n",
    "la cual, da lugar a los **armónicos esféricos**.\n",
    "\n",
    "Con $\\epsilon=(-1)^m$, conocida como fase de Condon-Shortley [4]\n",
    "\n",
    "* Implementaremos en Julia las gráficas de los **armónicos esféricos**.\n"
   ]
  },
  {
   "cell_type": "markdown",
   "metadata": {},
   "source": [
    "---"
   ]
  },
  {
   "cell_type": "markdown",
   "metadata": {},
   "source": [
    "La ecuación de Schrödinger independiente del tiempo es:\n",
    "\n",
    "\\begin{align}\n",
    "\\\\ -\\frac{\\hbar}{2m}\\frac{d^2\\psi}{dx^2}+V\\psi=E\\psi\n",
    "\\end{align}\n",
    "\n",
    "En tres dimenciones, se escribe de la siguiente forma:\n",
    "\n",
    "\\begin{align}\n",
    "\\\\ -\\frac{\\hbar}{2m}\\left[\\frac{d^2\\psi}{dx^2}+\\frac{d^2\\psi}{dy^2}+\\frac{d^2\\psi}{dz^2}\\right]+V\\psi=E\\psi\n",
    "\\end{align}\n",
    "\n",
    "Podemos simplificala usando el **operador laplaciano**, el cual se define como:\n",
    "\n",
    "\\begin{align}\n",
    "\\\\ \\nabla^2f=\\left[\\frac{d^2f}{dx^2}+\\frac{d^2f}{dy^2}+\\frac{d^2f}{dz^2}\\right]\n",
    "\\end{align}\n",
    "\n",
    "Sustituyendo en la expresión anterior: \n",
    "\n",
    "\\begin{align}\n",
    "\\\\ -\\frac{\\hbar}{2m}\\nabla^2\\psi+V\\psi=E\\psi\n",
    "\\end{align}\n",
    "\n",
    "Ahora debemos cambiar el operador lapaciano a coordenadas esféricas. Este procedimiento es algo largo, por lo que se incluirá en un anexo en futuras versiones, por lo pronto, puede consultarse una demostración parcial en la referencia [11]\n",
    "\n",
    "El operador, aplicado a alguna función $f$, en coordenadas esféricas es:\n",
    "\\begin{align}\n",
    "\\nabla^2 f = {1 \\over r^2} {\\partial \\over \\partial r}\\left( r^2 {\\partial f \\over \\partial r} \\right) + {1 \\over r^2 \\sin \\theta} {\\partial \\over \\partial \\theta}\n",
    "  \\left( \\sin \\theta {\\partial f \\over \\partial \\theta} \\right) + {1 \\over r^2 \\sin^2 \\theta} {\\partial^2 f \\over \\partial \\phi^2}\n",
    "\\end{align}\n",
    "\n",
    "Haciendo $f=\\psi$ y sustituyendo:\n",
    "\n",
    "\\begin{align}\n",
    "-\\frac{\\hbar^2}{2m}\\left[ {1 \\over r^2} {\\partial \\over \\partial r}\\left( r^2 {\\partial \\psi \\over \\partial r} \\right) + {1 \\over r^2 \\sin \\theta} {\\partial \\over \\partial \\theta}\n",
    "  \\left( \\sin \\theta {\\partial \\psi \\over \\partial \\theta} \\right) + {1 \\over r^2 \\sin^2 \\theta} {\\partial^2 \\psi \\over \\partial \\phi^2}\\right]+V\\psi=E\\psi\n",
    "\\end{align}\n",
    "\n",
    "Esta es la ecuación de Schrödinger en coordenadas esféricas."
   ]
  },
  {
   "cell_type": "markdown",
   "metadata": {},
   "source": [
    "----"
   ]
  },
  {
   "cell_type": "markdown",
   "metadata": {},
   "source": [
    "Ahora la función $\\psi$ depende de $r$,$\\theta$ y $\\phi$, esto es $\\psi(r,\\theta,\\psi)$. Con el método de separación de variables(ver anexo) podemos expresar $\\psi$ como el producto de dos funciones, una que depende de $r$ y otra que depende de los ángulos $\\theta$ y $\\phi$.\n",
    "\n",
    "\\begin{align}\n",
    "\\psi(r,\\theta,\\psi)=R(r)Y(\\theta,\\phi)\n",
    "\\end{align}\n",
    "\n",
    "recordemos que la finalidad de esto es expresar la ecuación de Schrödinger como la suma de una parte radial  más una parte angular. \n",
    "\n",
    "Nota: Para simplificar las operaciones que siguen, escribiremos $R$ y $Y$ para referirnos a $R(r)$ y $Y(\\theta,\\phi)$.\n",
    "\n",
    "Sustituyendo en la ecuación de Schrödinger obtenemos:\n",
    "\n",
    "\\begin{align}\n",
    "-\\frac{\\hbar^2}{2m}\\left[ {1 \\over r^2} {\\partial \\over \\partial r}\\left( r^2 {\\partial RY \\over \\partial r} \\right) + {1 \\over r^2 \\sin \\theta} {\\partial \\over \\partial \\theta}\n",
    "  \\left( \\sin \\theta {\\partial RY \\over \\partial \\theta} \\right) + {1 \\over r^2 \\sin^2 \\theta} {\\partial^2 RY \\over \\partial \\phi^2}\\right]+VRY=ERY\n",
    "\\end{align}\n",
    "\n",
    "desarrollando:\n",
    "\n",
    "\\begin{align}\n",
    "-\\frac{\\hbar^2}{2m}\\left[ {Y \\over r^2} {\\partial \\over \\partial r}\\left( r^2 {\\partial R \\over \\partial r} \\right) + {R \\over r^2 \\sin \\theta} {\\partial \\over \\partial \\theta}\n",
    "  \\left( \\sin \\theta {\\partial Y \\over \\partial \\theta} \\right) + {R \\over r^2 \\sin^2 \\theta} {\\partial^2 Y \\over \\partial \\phi^2}\\right]+VRY=ERY\n",
    "\\end{align}\n",
    "\n",
    "dividiendo entre $RY$:\n",
    "\n",
    "\\begin{align}\n",
    "-\\frac{\\hbar^2}{2m}\\left[ {1\\over Rr^2} {\\partial \\over \\partial r}\\left( r^2 {\\partial R \\over \\partial r} \\right) + {1 \\over Yr^2 \\sin \\theta} {\\partial \\over \\partial \\theta}\n",
    "  \\left( \\sin \\theta {\\partial Y \\over \\partial \\theta} \\right) + {1 \\over Yr^2 \\sin^2 \\theta} {\\partial^2 Y \\over \\partial \\phi^2}\\right]+V=E\n",
    "\\end{align}\n",
    "\n",
    "\\begin{align}\n",
    "-\\frac{\\hbar^2}{2m}\\left[ {1\\over Rr^2} {\\partial \\over \\partial r}\\left( r^2 {\\partial R \\over \\partial r} \\right) + {1 \\over Yr^2 \\sin \\theta} {\\partial \\over \\partial \\theta}\n",
    "  \\left( \\sin \\theta {\\partial Y \\over \\partial \\theta} \\right) + {1 \\over Yr^2 \\sin^2 \\theta} {\\partial^2 Y \\over \\partial \\phi^2}\\right]+(V-E)=0\n",
    "\\end{align}\n",
    "\n",
    "multiplicando por $-\\frac{2mr^2}{\\hbar^2}$\n",
    "\n",
    "\\begin{align}\n",
    "r^2\\left[ {1\\over Rr^2} {\\partial \\over \\partial r}\\left( r^2 {\\partial R \\over \\partial r} \\right) + {1 \\over Yr^2 \\sin \\theta} {\\partial \\over \\partial \\theta}\n",
    "  \\left( \\sin \\theta {\\partial Y \\over \\partial \\theta} \\right) + {1 \\over Yr^2 \\sin^2 \\theta} {\\partial^2 Y \\over \\partial \\phi^2}\\right]+\\left[-\\frac{2mr^2}{\\hbar^2} \\right](V-E)=0\n",
    "\\end{align}\n",
    "\n",
    "\\begin{align}\n",
    "\\left[ {1\\over R} {\\partial \\over \\partial r}\\left( r^2 {\\partial R \\over \\partial r} \\right) + {1 \\over Y \\sin \\theta} {\\partial \\over \\partial \\theta}\n",
    "  \\left( \\sin \\theta {\\partial Y \\over \\partial \\theta} \\right) + {1 \\over Y \\sin^2 \\theta} {\\partial^2 Y \\over \\partial \\phi^2}\\right]-\\left[\\frac{2mr^2}{\\hbar^2} \\right](V-E)=0\n",
    "\\end{align}\n",
    "\n",
    "\\begin{align}\n",
    "{1\\over R} {\\partial \\over \\partial r}\\left( r^2 {\\partial R \\over \\partial r} \\right) + {1 \\over Y \\sin \\theta} {\\partial \\over \\partial \\theta}\n",
    "  \\left( \\sin \\theta {\\partial Y \\over \\partial \\theta} \\right) + {1 \\over Y \\sin^2 \\theta} {\\partial^2 Y \\over \\partial \\phi^2}-\\frac{2mr^2}{\\hbar^2}(V-E)=0\n",
    "\\end{align}\n",
    "\n",
    "Agrupamos de acuerdo a las variables:\n",
    "\n",
    "\\begin{align}\n",
    "{1\\over R} {\\partial \\over \\partial r}\\left( r^2 {\\partial R \\over \\partial r} \\right) -\\frac{2mr^2}{\\hbar^2} (V-E)+ {1 \\over Y \\sin \\theta} {\\partial \\over \\partial \\theta}\n",
    "  \\left( \\sin \\theta {\\partial Y \\over \\partial \\theta} \\right) + {1 \\over Y \\sin^2 \\theta} {\\partial^2 Y \\over \\partial \\phi^2}=0\n",
    "\\end{align}\n",
    "\n",
    "despejando $\\frac{1}{Y}$: \n",
    "\n",
    "\\begin{align}\n",
    "\\left[{1\\over R} {\\partial \\over \\partial r}\\left( r^2 {\\partial R \\over \\partial r} \\right) -\\frac{2mr^2}{\\hbar^2} (V-E)\\right]+ \\frac{1}{Y}\\left[{1 \\over \\sin \\theta} {\\partial \\over \\partial \\theta}\n",
    "  \\left( \\sin \\theta {\\partial Y \\over \\partial \\theta} \\right)+ {1 \\over \\sin^2 \\theta} {\\partial^2 Y \\over \\partial \\phi^2}\\right]=0\n",
    "\\end{align}\n",
    "\n",
    "La primera parte de la suma de arriba depende solo de $r$, mientras que la segunda depende de $\\theta$ y $\\phi$, con lo que hemos logrado separar la ecuación de Schrodinger en una parte radial y otra angular.\n",
    "\n",
    "NOTA: En algunos textos, la separación de variables la realizan por medio de tres funciones: $\\psi(r,\\theta,\\psi)=R(r)\\Theta(\\theta)\\Phi(\\phi)$. En este texto no se hizo de esta forma pues se busca hacerlo \"paso a paso\"."
   ]
  },
  {
   "cell_type": "markdown",
   "metadata": {
    "collapsed": true
   },
   "source": [
    "A conveniencia, se hacen las siguientes relaciones: \n",
    "\n",
    "\\begin{align}\n",
    "\\left[{1\\over R} {\\partial \\over \\partial r}\\left( r^2 {\\partial R \\over \\partial r} \\right) -\\frac{2mr^2}{\\hbar^2} (V-E)\\right]=l(l+1)\n",
    "\\\\\n",
    "\\\\\n",
    " \\frac{1}{Y}\\left[{1 \\over \\sin \\theta} {\\partial \\over \\partial \\theta}\n",
    "  \\left( \\sin \\theta {\\partial Y \\over \\partial \\theta} \\right)+ {1 \\over \\sin^2 \\theta} {\\partial^2 Y \\over \\partial \\phi^2}\\right]=-l(l+1)\n",
    "\\end{align}\n",
    "\n",
    "es decir:\n",
    "\n",
    "\\begin{align}\n",
    "l(l+1)-l(l+1)=0\n",
    "\\end{align}\n",
    "\n",
    "donde $l$ es el número cuántico orbital."
   ]
  },
  {
   "cell_type": "markdown",
   "metadata": {
    "collapsed": true
   },
   "source": [
    "----"
   ]
  },
  {
   "cell_type": "markdown",
   "metadata": {},
   "source": [
    "Antes de continuar con el siguiente paso debemos modificar la ecuación anterior, para ello, multiplicamos por $Ysin^2\\theta$ a la parte angular:\n",
    "\n",
    "\\begin{align}\n",
    " Ysin^2\\theta\\left(\\frac{1}{Y}\\left[{1 \\over \\sin \\theta} {\\partial \\over \\partial \\theta}\n",
    "  \\left( \\sin \\theta {\\partial Y \\over \\partial \\theta} \\right)+ {1 \\over \\sin^2 \\theta} {\\partial^2 Y \\over \\partial \\phi^2}\\right]\\right)=-l(l+1) Ysin^2\\theta\n",
    "  \\\\\n",
    "  \\\\\n",
    "{ \\sin \\theta} {\\partial \\over \\partial \\theta}\n",
    "  \\left( \\sin \\theta {\\partial Y \\over \\partial \\theta} \\right)+  {\\partial^2 Y \\over \\partial \\phi^2}=-l(l+1) Ysin^2\\theta\n",
    "\\end{align}\n",
    "\n",
    "Como la función solución $Y(\\theta,\\phi)$ depende de dos variables, aplicaremos nuevamente el método de separación de varibles:\n",
    "\n",
    "\\begin{align}\n",
    "Y(\\theta,\\phi)=\\Theta(\\theta)\\Phi(\\phi)\n",
    "\\end{align}\n",
    "\n",
    "\\begin{align}\n",
    "{ \\sin \\theta} {\\partial \\over \\partial \\theta}\n",
    "  \\left( \\sin \\theta {\\partial \\Theta(\\theta)\\Phi(\\phi) \\over \\partial \\theta} \\right)+  {\\partial^2 \\Theta(\\theta)\\Phi(\\phi) \\over \\partial \\phi^2}=-l(l+1) \\Theta(\\theta)\\Phi(\\phi)sin^2\\theta\n",
    "\\end{align}\n",
    "\n",
    "\\begin{align}\n",
    "\\Phi(\\phi){ \\sin \\theta} {\\partial \\over \\partial \\theta}\n",
    "  \\left( \\sin \\theta {\\partial \\Theta(\\theta) \\over \\partial \\theta} \\right)+ \\Theta(\\theta){\\partial^2 \\Phi(\\phi)\\over \\partial \\phi^2}=-l(l+1) \\Theta(\\theta)\\Phi(\\phi)sin^2\\theta\n",
    "\\end{align}\n",
    "\n",
    "dividiendo entre $\\Theta(\\theta)\\Phi(\\phi)$:\n",
    "\n",
    "\\begin{align}\n",
    "\\frac{1}{\\Theta(\\theta)}\\left[{ \\sin \\theta} {\\partial \\over \\partial \\theta}\n",
    "  \\left( \\sin \\theta {\\partial \\Theta(\\theta) \\over \\partial \\theta} \\right)\\right]+\\frac{1}{\\Phi(\\phi)}\\left[{\\partial^2 \\Phi(\\phi)\\over \\partial \\phi^2}\\right]=-l(l+1)sin^2\\theta\n",
    "\\end{align}\n",
    "\n",
    "agrupando de acuerdo a las variables:\n",
    "\n",
    "\\begin{align}\n",
    "\\left[\\frac{1}{\\Theta(\\theta)}{ \\sin \\theta} {\\partial \\over \\partial \\theta}\n",
    "  \\left( \\sin \\theta {\\partial \\Theta(\\theta) \\over \\partial \\theta} \\right)+l(l+1)sin^2\\theta\\right]+\\frac{1}{\\Phi(\\phi)}\\left[{\\partial^2 \\Phi(\\phi)\\over \\partial \\phi^2}\\right]=0\n",
    "\\end{align}\n",
    "\n",
    "\\begin{align}\n",
    "\\left[\\frac{1}{\\Theta(\\theta)}{ \\sin \\theta} {\\partial \\over \\partial \\theta}\n",
    "  \\left( \\sin \\theta {\\partial \\Theta(\\theta) \\over \\partial \\theta} \\right)+l(l+1)sin^2\\theta\\right]=-\\frac{1}{\\Phi(\\phi)}\\left[{\\partial^2 \\Phi(\\phi)\\over \\partial \\phi^2}\\right]\n",
    "\\end{align}\n",
    "\n",
    "Como podemos observar, el lado derecho izquierdo de la igualdad depende sólo de $\\Theta$ mientras que el lado izquierdo depende sólo de $\\Phi$. La única forma en que la igualdad se pueda cumplir es que cada lado sea igual a una constante. Esta constante la asignaremos a conveniencia como $-m^2$, donde m represental el número cuántico magnético.\n",
    "\n",
    "\\begin{align}\n",
    "\\frac{1}{\\Phi(\\phi)}\\left[{\\partial^2 \\Phi(\\phi)\\over \\partial \\phi^2}\\right]=-m^2\n",
    "\\\\\n",
    "\\left[\\frac{1}{\\Theta(\\theta)}{ \\sin \\theta} {\\partial \\over \\partial \\theta}\n",
    "  \\left( \\sin \\theta {\\partial \\Theta(\\theta) \\over \\partial \\theta} \\right)+l(l+1)sin^2\\theta\\right]=m^2\n",
    "\\end{align}  \n"
   ]
  },
  {
   "cell_type": "markdown",
   "metadata": {},
   "source": [
    "----"
   ]
  },
  {
   "cell_type": "markdown",
   "metadata": {
    "collapsed": true
   },
   "source": [
    "Ahora tenemos 3 ecuaciones, correspondientes a cada una de las varibles $R,\\Theta$ y $\\Phi$.\n",
    "\n",
    "\\begin{align}\n",
    "\\left[{1\\over R} {\\partial \\over \\partial r}\\left( r^2 {\\partial R \\over \\partial r} \\right) -\\frac{2mr^2}{\\hbar^2} (V-E)\\right]=l(l+1)\n",
    "\\\\\n",
    "\\left[\\frac{1}{\\Theta(\\theta)}{ \\sin \\theta} {\\partial \\over \\partial \\theta}\n",
    "  \\left( \\sin \\theta {\\partial \\Theta(\\theta) \\over \\partial \\theta} \\right)+l(l+1)sin^2\\theta\\right]=m^2\n",
    "\\\\\n",
    "\\frac{1}{\\Phi(\\phi)}\\left[{\\partial^2 \\Phi(\\phi)\\over \\partial \\phi^2}\\right]=-m^2\n",
    "\\end{align}  \n",
    "El siguiente paso será hallar sus soluciones. \n",
    "\n",
    "ECUACION POLAR\n",
    "----\n",
    "A continuación determinaremos una expresión para $\\Theta$:\n",
    "\n",
    "Tenemos que: \n",
    "\n",
    "\\begin{align}\n",
    "\\left[\\frac{1}{\\Theta(\\theta)}{ \\sin \\theta} {\\partial \\over \\partial \\theta}\n",
    "  \\left( \\sin \\theta {\\partial \\Theta \\over \\partial \\theta} \\right)+l(l+1)sin^2\\theta\\right]=m^2\n",
    "\\end{align}  \n",
    "\n",
    "Nota: Escribimos $\\Theta$ en vez de $\\Theta(\\theta)$ para facilitar las visualización y las operaciones.\n",
    "\n",
    "modifiremos la ecuación para que tenga la forma de la ecuación de Legendre  [12][13]:\n",
    "\n",
    "Multiplicamos por $\\Theta$:\n",
    "\n",
    "\\begin{align}\n",
    "{ \\sin \\theta} {\\partial \\over \\partial \\theta}\n",
    "  \\left( \\sin \\theta {\\partial \\Theta \\over \\partial \\theta} \\right)+\\Theta l(l+1)sin^2\\theta=\\Theta m^2\n",
    "\\end{align}  \n",
    "\n",
    "Multiplicamos por $\\frac{1}{sin^2\\theta}$\n",
    "\n",
    "\\begin{align}\n",
    "\\frac{1}{sin\\theta}{\\partial \\over \\partial \\theta}\n",
    "  \\left( \\sin \\theta {\\partial \\Theta \\over \\partial \\theta} \\right)+\\Theta l(l+1)=\\frac{\\Theta m^2}{sin^2\\theta}\n",
    "\\end{align}  \n",
    "\n",
    "\\begin{align}\n",
    "\\frac{1}{sin\\theta}{\\partial \\over \\partial \\theta}\n",
    "  \\left( \\sin \\theta {\\partial \\Theta \\over \\partial \\theta} \\right)-\\frac{\\Theta m^2}{sin^2\\theta}+\\Theta l(l+1)=0\n",
    "\\end{align}  \n",
    "\n",
    "\\begin{align}\n",
    "\\frac{1}{sin\\theta}{\\partial \\over \\partial \\theta}\n",
    "  \\left( \\sin \\theta {\\partial \\Theta \\over \\partial \\theta} \\right)+\\left[-\\frac{m^2}{sin^2\\theta}+ l(l+1)\\right]\\Theta=0\n",
    "\\end{align}  \n",
    "\n",
    "Debemos hacer el siguiente cambio de variable: $z=cos\\theta$"
   ]
  },
  {
   "cell_type": "markdown",
   "metadata": {
    "collapsed": true
   },
   "source": [
    "Primero haremos el cambio de variabe para el primer término de la resta.\n",
    "\\begin{align}\n",
    "\\frac{1}{sin\\theta}{\\partial \\over \\partial \\theta}\n",
    "  \\left( \\sin \\theta {\\partial \\Theta \\over \\partial \\theta} \\right)\n",
    "\\end{align}  \n",
    "\n",
    "Aplicamos la regla de la derivada del producto a ${\\partial \\over \\partial \\theta}\n",
    "  \\left( \\sin \\theta {\\partial \\Theta \\over \\partial \\theta} \\right)$\n",
    "  \n",
    "\\begin{align}\n",
    "{\\partial \\over \\partial \\theta}\\left( \\sin \\theta {\\partial \\Theta \\over \\partial \\theta} \\right) = cos\\theta{\\partial \\Theta \\over \\partial \\theta} + sin\\theta{\\partial^2 \\Theta \\over \\partial \\theta^2}\n",
    "\\end{align}    \n",
    "  \n",
    "entonces   \n",
    "\n",
    "\\begin{align}\n",
    "\\frac{1}{sin\\theta}{\\partial \\over \\partial \\theta}\n",
    "  \\left( \\sin \\theta {\\partial \\Theta \\over \\partial \\theta} \\right)=\\frac{1}{sin\\theta}\\left[cos\\theta{\\partial \\Theta \\over \\partial \\theta} + sin\\theta{\\partial^2 \\Theta \\over \\partial \\theta^2}\\right]\n",
    "\\end{align} \n",
    "\n",
    "Aplicamos la regla de la cadena $\\left(\\frac{dy}{dx}=\\frac{dy}{du} \\cdot \\frac{du}{dx}\\right)$ a ${\\partial \\Theta \\over \\partial \\theta}$ y ${\\partial^2 \\Theta \\over \\partial \\theta^2}$\n",
    "\n",
    "(Recordamos que $\\Theta=\\Theta(\\theta)$)\n",
    "\n",
    "\\begin{align}\n",
    "{\\partial \\Theta(\\theta) \\over \\partial \\theta}={\\partial \\Theta(z) \\over \\partial z}{\\partial z \\over \\partial \\theta}={\\partial \\Theta(z) \\over \\partial z}(-sin\\theta)\n",
    "\\end{align} \n",
    "\n",
    "Por lo tanto:\n",
    "\n",
    "\\begin{align}\n",
    "{\\partial \\Theta(\\theta) \\over \\partial \\theta}=-sin\\theta{\\partial \\Theta(z) \\over \\partial z}\n",
    "\\end{align} \n",
    "\n",
    "Para la segunda derivada:\n",
    "\n",
    "\\begin{align}\n",
    "{\\partial^2 \\Theta(\\theta)\\over \\partial \\theta^2}={\\partial \\over \\partial \\theta}\\left[-sin\\theta{\\partial \\Theta(z) \\over \\partial z}\\right]\n",
    "\\end{align} \n",
    "\n",
    "aplicamos nuevamente la regla de la cadena:\n",
    "\n",
    "\\begin{align}\n",
    "{\\partial^2 \\Theta(\\theta)\\over \\partial \\theta^2}={\\partial \\over \\partial \\theta}\\left[-sin\\theta{\\partial \\Theta(z) \\over \\partial z}\\right]=-cos\\theta{\\partial \\Theta(z) \\over \\partial z}-sin\\theta{\\partial \\over \\partial \\theta}\\left({\\partial \\Theta(z) \\over \\partial z}\\right)\n",
    "\\end{align} \n",
    "\n",
    "Aplicamos la regla de la cadena a ${\\partial \\over \\partial \\theta}$\n",
    "\n",
    "\\begin{align}\n",
    "{\\partial^2 \\Theta(\\theta)\\over \\partial \\theta^2}=-cos\\theta{\\partial \\Theta(z) \\over \\partial z}-sin\\theta{\\partial \\over \\partial \\theta}\\left({\\partial \\Theta(z) \\over \\partial z}\\right)=-cos\\theta{\\partial \\Theta(z) \\over \\partial z}-sin\\theta{\\partial \\over \\partial z}{\\partial z\\over \\partial \\theta}\\left({\\partial \\Theta(z) \\over \\partial z}\\right)\n",
    "\\end{align} \n",
    "\n",
    "\\begin{align}\n",
    "{\\partial^2 \\Theta(\\theta)\\over \\partial \\theta^2}=-cos\\theta{\\partial \\Theta(z) \\over \\partial z}-sin\\theta{\\partial \\over \\partial z}(-sin\\theta)\\left({\\partial \\Theta(z) \\over \\partial z}\\right)\n",
    "\\end{align} \n",
    "\n",
    "\\begin{align}\n",
    "{\\partial^2 \\Theta(\\theta)\\over \\partial \\theta^2}=-cos\\theta{\\partial \\Theta(z) \\over \\partial z}+sin^2\\theta{\\partial \\over \\partial z}\\left({\\partial \\Theta(z) \\over \\partial z}\\right)\n",
    "\\\\\n",
    "{\\partial^2 \\Theta(\\theta)\\over \\partial \\theta^2}=-cos\\theta{\\partial \\Theta(z) \\over \\partial z}+sin^2\\theta\\left({\\partial^2 \\Theta(z) \\over \\partial z^2}\\right)\n",
    "\\end{align} \n",
    "\n",
    "sustituyendo en\n",
    "\n",
    "\\begin{align}\n",
    "\\frac{1}{sin\\theta}{\\partial \\over \\partial \\theta}\n",
    "  \\left( \\sin \\theta {\\partial \\Theta \\over \\partial \\theta} \\right)=\\frac{1}{sin\\theta}\\left[cos\\theta{\\partial \\Theta \\over \\partial \\theta} + sin\\theta{\\partial^2 \\Theta \\over \\partial \\theta^2}\\right]\n",
    "\\end{align} \n",
    "\n",
    "\\begin{align}\n",
    "\\frac{1}{sin\\theta}{\\partial \\over \\partial \\theta}\n",
    "  \\left( \\sin \\theta {\\partial \\Theta \\over \\partial \\theta} \\right)=\\frac{1}{sin\\theta}\\left[cos\\theta\\left(-sin\\theta{\\partial \\Theta(z) \\over \\partial z}\\right) + sin\\theta\\left(-cos\\theta{\\partial \\Theta(z) \\over \\partial z}+sin^2\\theta\\left({\\partial^2 \\Theta(z) \\over \\partial z^2}\\right)\\right)\\right]\n",
    "\\end{align} \n",
    "\n",
    "\\begin{align}\n",
    "\\frac{1}{sin\\theta}{\\partial \\over \\partial \\theta}\n",
    "  \\left( \\sin \\theta {\\partial \\Theta \\over \\partial \\theta} \\right)=-cos\\theta{\\partial \\Theta(z) \\over \\partial z}-cos\\theta{\\partial \\Theta(z) \\over \\partial z}+sin^2\\theta\\left({\\partial^2 \\Theta(z) \\over \\partial z^2}\\right)\n",
    "\\end{align} \n",
    "\n",
    "como $z=cos\\theta$ y $sin^2\\theta+cos^2\\theta=1$\n",
    "\n",
    "\\begin{align}\n",
    "\\frac{1}{sin\\theta}{\\partial \\over \\partial \\theta}\n",
    "  \\left( \\sin \\theta {\\partial \\Theta \\over \\partial \\theta} \\right)=-2z{\\partial \\Theta(z) \\over \\partial z}+(1-z^2)\\left({\\partial^2 \\Theta(z) \\over \\partial z^2}\\right)\n",
    "\\end{align} \n",
    "\n",
    "\\begin{align}\n",
    "\\frac{1}{sin\\theta}{\\partial \\over \\partial \\theta}\n",
    "  \\left( \\sin \\theta {\\partial \\Theta \\over \\partial \\theta} \\right)=(1-z^2){\\partial^2 \\Theta(z) \\over \\partial z^2}-2z{\\partial \\Theta(z) \\over \\partial z}\n",
    "\\end{align} \n",
    "\n",
    "Por la regla de la cadena, podemos ver que la parte derecha de la igualdad la podemos ver como:\n",
    "\n",
    "\\begin{align}\n",
    "(1-z^2){\\partial^2 \\Theta(z) \\over \\partial z^2}-2z{\\partial \\Theta(z) \\over \\partial z}={\\partial \\over \\partial z}\\left[(1-z^2){\\partial \\Theta(z) \\over \\partial z}\\right]\n",
    "\\end{align} \n",
    "\n",
    "Por lo tanto\n",
    "\n",
    "\\begin{align}\n",
    "{\\partial \\over \\partial z}\\left[(1-z^2){\\partial \\Theta(z) \\over \\partial z}\\right]=\\frac{1}{sin\\theta}{\\partial \\over \\partial \\theta}\\left( \\sin \\theta {\\partial \\Theta \\over \\partial \\theta} \\right)\n",
    "\\end{align} \n",
    "\n",
    "Sustituyendo en la ecuación de $\\Theta$, recordando que $sin^2\\theta=1-cos^2\\theta$ y $z=cos\\theta$\n",
    "\n",
    "\\begin{align}\n",
    "\\frac{1}{sin\\theta}{\\partial \\over \\partial \\theta}\n",
    "  \\left( \\sin \\theta {\\partial \\Theta \\over \\partial \\theta} \\right)+\\left[-\\frac{m^2}{sin^2\\theta}+ l(l+1)\\right]\\Theta=0\n",
    "\\end{align}  \n",
    "\n",
    "\\begin{align}\n",
    "{\\partial \\over \\partial z}\\left[(1-z^2){\\partial \\Theta(z) \\over \\partial z}\\right]+\\left[-\\frac{m^2}{(1-z^2)}+ l(l+1)\\right]\\Theta(z)=0\n",
    "\\end{align}  \n",
    "\n",
    "Nos será útil escribirla como: \n",
    "\n",
    "\\begin{align}\n",
    "\\\\ (1-z^2)\\Theta''-2z\\Theta'+\\left[l(l+1)-\\frac{m^2}{(1-z^2)}\\right]\\Theta=0\n",
    "\\end{align}"
   ]
  },
  {
   "cell_type": "markdown",
   "metadata": {
    "collapsed": true
   },
   "source": [
    "----"
   ]
  },
  {
   "cell_type": "markdown",
   "metadata": {},
   "source": [
    "Notemos que esta última expresión se puede convertir en la ecuación de Legendre si hacemos $m=0$\n",
    "\n",
    "Por este parecido podemos esperar que sus soluciones se puedan expresar en términos de los polinomios de Legendre. La sorpresa aquí es que no solo obtendremos dicha solucón en términos de los polinomios, si no que además, conseguiremos una expresión más general de estos conocida como **polinomios asociados de Legendre**"
   ]
  },
  {
   "cell_type": "markdown",
   "metadata": {},
   "source": [
    "Para hallar la solución a la ecuación anterior regresaremos a la ecuación de Legendre original para convertirla en la ecuación que tenemos ahora.\n",
    "\n",
    "Primero debemos derivar $m$ veces cada término de la ecuación:\n",
    "\n",
    "\\begin{align}\n",
    "\\\\ (1-x^2)P''-2xP'+n(n+1)P=0\n",
    "\\end{align}\n",
    "\n",
    "\\begin{align}\n",
    "\\\\ \\frac{d^m}{dx^m}\\left[(1-x^2)P''\\right]-\\frac{d^m}{dx^m}\\left[2xP'\\right]+\\frac{d^m}{dx^m}\\left[\\left[n(n+1)\\right]P\\right]=0\n",
    "\\end{align}\n",
    "\n",
    "\\begin{align}\n",
    "\\\\ \\frac{d^m}{dx^m}\\left[(1-x^2)P''\\right]-2\\frac{d^m}{dx^m}\\left[xP'\\right]+\\frac{d^m}{dx^m}\\left[\\left[n(n+1)\\right]P\\right]=0\n",
    "\\end{align}"
   ]
  },
  {
   "cell_type": "markdown",
   "metadata": {},
   "source": [
    "para poder derivar $m$ veces necesitamos usar la regla generalizada del producto (también llamada fórmula de Leibnitz de la derivada n-esima)\n",
    "\n",
    "\\begin{align}\n",
    "\\frac{d^m}{dx^m}(f \\cdot g)=\\sum_{k=0}^m {m \\choose k}\\frac{d^{m-k}}{dx^{m-k}}f\\frac{d^k}{dx^k} g \n",
    "\\end{align}\n",
    "con $m=1,2,3...$ y ${m \\choose k}$ es llamado **coeficiente binomial**, definido como:\n",
    "\n",
    "\\begin{align}\n",
    "{m\\choose k} = \\frac{m!}{k!(m-k)!}\n",
    "\\end{align}\n",
    "\n",
    "observación:\n",
    "\n",
    "\\begin{align}\n",
    "\\frac{d^0}{dx^0} g=g\n",
    "\\end{align}"
   ]
  },
  {
   "cell_type": "markdown",
   "metadata": {},
   "source": [
    "Aplicamos la fórmula de Leibnitz de la derivada n-esima a cada término de la ecuación:\n",
    "\n",
    "\\begin{align}\n",
    "\\\\ \\frac{d^m}{dx^m}\\left[(1-x^2)P''\\right]=\\sum_{k=0}^m {m \\choose k}\\frac{d^{m-k}}{dx^{m-k}}P''\\frac{d^k}{dx^k} (1-x^2)\\\\ \n",
    "={m \\choose 0}\\frac{d^{m-0}}{dx^{m-0}}P''\\frac{d^0}{dx^0} (1-x^2)+{m \\choose 1}\\frac{d^{m-1}}{dx^{m-1}}P''\\frac{d^1}{dx^1} (1-x^2)+{m \\choose 2}\\frac{d^{m-2}}{dx^{m-2}}P''\\frac{d^2}{dx^2} (1-x^2) \n",
    "\\end{align}\n",
    "\n",
    "notemos que $\\frac{d^{m-0}}{dx^{m-0}}P''=\\frac{d^{m}}{dx^{m}}P''= \\frac{d^{m+2}}{dx^{m+2}}P$. Entonces:\n",
    "\n",
    "\\begin{align}\n",
    "\\\\ \\frac{d^m}{dx^m}\\left[(1-x^2)P''\\right]={m \\choose 0}\\frac{d^{m-0+2}}{dx^{m-0+2}}P\\frac{d^0}{dx^0} (1-x^2)+{m \\choose 1}\\frac{d^{m-1+2}}{dx^{m-1+2}}P\\frac{d^1}{dx^1} (1-x^2)+{m \\choose 2}\\frac{d^{m-2+2}}{dx^{m-2+2}}P\\frac{d^2}{dx^2} (1-x^2) \\\\\n",
    "\\\\={m \\choose 0}\\frac{d^{m+2}}{dx^{m+2}}P\\cdot (1-x^2)+{m \\choose 1}\\frac{d^{m+1}}{dx^{m+1}}P\\frac{d}{dx} (1-x^2)+{m \\choose 2}\\frac{d^{m}}{dx^{m}}P\\frac{d^2}{dx^2} (1-x^2)\\\\\n",
    "\\\\={m \\choose 0}(1-x^2)\\frac{d^{m+2}}{dx^{m+2}}P+{m \\choose 1}\\frac{d^{m+1}}{dx^{m+1}}P\\cdot(-2x)+{m \\choose 2}\\frac{d^{m}}{dx^{m}}P\\cdot(-2)\\\\ \n",
    "\\\\={m \\choose 0}(1-x^2)\\frac{d^{m+2}}{dx^{m+2}}P-2x{m \\choose 1}\\frac{d^{m+1}}{dx^{m+1}}P-2{m \\choose 2}\\frac{d^{m}}{dx^{m}}P \n",
    "\\end{align}"
   ]
  },
  {
   "cell_type": "markdown",
   "metadata": {},
   "source": [
    "Aplicando la definición del ecoeficiente binomial:\n",
    "\n",
    "\\begin{align}\n",
    "{m \\choose 0}=\\frac{m!}{0!(m-0)!}=\\frac{m!}{1\\cdot(m)!}=\\frac{m!}{m!}=1\\\\\n",
    "\\\\\n",
    "{m \\choose 1}=\\frac{m!}{1!(m-1)!}=\\frac{m!}{(m-1)!}=\\frac{m\\cdot(m-1)!}{(m-1)!}=m\\\\\n",
    "\\\\\n",
    "{m \\choose 2}=\\frac{m!}{2!(m-2)!}=\\frac{m!}{2\\cdot(m-2)!}=\\frac{m\\cdot(m-1)\\cdot(m-2)!}{2\\cdot(m-2)!}=\\frac{1}{2}m\\cdot(m-1)\n",
    "\\end{align}\n",
    "\n"
   ]
  },
  {
   "cell_type": "markdown",
   "metadata": {},
   "source": [
    "Entonces:\n",
    "\n",
    "\\begin{align}\n",
    "\\\\ \\frac{d^m}{dx^m}\\left[(1-x^2)P''\\right]={m \\choose 0}(1-x^2)\\frac{d^{m+2}}{dx^{m+2}}P-2x{m \\choose 1}\\frac{d^{m+1}}{dx^{m+1}}P-2{m \\choose 2}\\frac{d^{m}}{dx^{m}}P\\\\ \n",
    "\\\\ \n",
    "\\frac{d^m}{dx^m}\\left[(1-x^2)P''\\right]=1\\cdot(1-x^2)\\frac{d^{m+2}}{dx^{m+2}}P-2xm\\frac{d^{m+1}}{dx^{m+1}}P-2\\left(\\frac{1}{2}m\\cdot(m-1)\\right)\\frac{d^{m}}{dx^{m}}P\\\\\n",
    "\\\\ \n",
    "\\frac{d^m}{dx^m}\\left[(1-x^2)P''\\right]=(1-x^2)\\frac{d^{m+2}}{dx^{m+2}}P-2xm\\frac{d^{m+1}}{dx^{m+1}}P-m\\cdot(m-1)\\frac{d^{m}}{dx^{m}}P\\\\\n",
    "\\end{align}"
   ]
  },
  {
   "cell_type": "markdown",
   "metadata": {},
   "source": [
    "Ahora el segundo término:\n",
    "\n",
    "\\begin{align}\n",
    "\\frac{d^m}{dx^m}\\left[xP'\\right]=\\sum_{k=0}^m {m \\choose k}\\frac{d^{m-k}}{dx^{m-k}}P'\\frac{d^k}{dx^k} x\\\\\n",
    "\\\\\n",
    "={m \\choose 0}\\frac{d^{m-0}}{dx^{m-0}}P'\\frac{d^0}{dx^0}x+{m \\choose 1}\\frac{d^{m-1}}{dx^{m-1}}P'\\frac{d^1}{dx^1} x\\\\\n",
    "\\\\={m \\choose 0}\\frac{d^{m}}{dx^{m}}P'\\cdot x+{m \\choose 1}\\frac{d^{m-1}}{dx^{m-1}}P'\\frac{d}{dx}x\n",
    "\\\\\n",
    "\\\\={m \\choose 0}x\\frac{d^{m}}{dx^{m}}P'+{m \\choose 1}\\frac{d^{m-1}}{dx^{m-1}}P'\\cdot (1)\n",
    "\\\\\n",
    "\\\\={m \\choose 0}x\\frac{d^{m}}{dx^{m}}P'+{m \\choose 1}\\frac{d^{m-1}}{dx^{m-1}}P'\n",
    "\\end{align}\n",
    "\n",
    "como $\\frac{d^{m-0}}{dx^{m-0}}P'=\\frac{d^{m}}{dx^{m}}P'= \\frac{d^{m+1}}{dx^{m+1}}P$. Entonces:\n",
    "\n",
    "\\begin{align}\n",
    "\\\\\n",
    "\\frac{d^m}{dx^m}\\left[xP'\\right]={m \\choose 0}x\\frac{d^{m+1}}{dx^{m+1}}P+{m \\choose 1}\\frac{d^{m-1+1}}{dx^{m-1+1}}P\n",
    "\\\\\n",
    "\\\\\n",
    "\\frac{d^m}{dx^m}\\left[xP'\\right]={m \\choose 0}x\\frac{d^{m+1}}{dx^{m+1}}P+{m \\choose 1}\\frac{d^{m}}{dx^{m}}P\n",
    "\\end{align}\n",
    "\n",
    "usando las igualdades del coeficiente binomial:\n",
    "\n",
    "\\begin{align}\n",
    "\\\\\n",
    "\\frac{d^m}{dx^m}\\left[xP'\\right]=(1)\\cdot x\\frac{d^{m+1}}{dx^{m+1}}P+m \\cdot \\frac{d^{m}}{dx^{m}}P\n",
    "\\\\\n",
    "\\\\\n",
    "\\frac{d^m}{dx^m}\\left[xP'\\right]=x\\frac{d^{m+1}}{dx^{m+1}}P+m\\frac{d^{m}}{dx^{m}}P\n",
    "\\end{align}"
   ]
  },
  {
   "cell_type": "markdown",
   "metadata": {},
   "source": [
    "Finalmente desarrollamos el tercer término:\n",
    "\n",
    "\\begin{align}\n",
    "\\frac{d^m}{dx^m}\\left[\\left[n(n+1)\\right]P\\right]=n(n+1)\\frac{d^m}{dx^m}P\n",
    "\\end{align}\n"
   ]
  },
  {
   "cell_type": "markdown",
   "metadata": {},
   "source": [
    "Por lo tanto al derivar $m$ veces la ecuación de Legendre se obtiene:\n",
    "\n",
    "\\begin{align}\n",
    "(1-x^2)\\frac{d^{m+2}}{dx^{m+2}}P-2xm\\frac{d^{m+1}}{dx^{m+1}}P-m\\cdot(m-1)\\frac{d^{m}}{dx^{m}}P-2 \\left[x\\frac{d^{m+1}}{dx^{m+1}}P+m\\frac{d^{m}}{dx^{m}}P\\right]+n(n+1)\\frac{d^m}{dx^m}P=0\n",
    "\\end{align}\n",
    "\n",
    "(esta es la expresión que aparece en [15])\n",
    "\n",
    "Si hacemos $u=\\frac{d^m}{dx^m}P$\n",
    "\n",
    "\\begin{align}\n",
    "(1-x^2)\\frac{d^{2}}{dx^{2}}u-2xm\\frac{d^{1}}{dx^{1}}u-m\\cdot(m-1)u-2 \\left[x\\frac{d^{1}}{dx^{1}}u+mu\\right]+n(n+1)u=0\n",
    "\\end{align}\n",
    "\n",
    "\\begin{align}\n",
    "(1-x^2)\\frac{d^{2}}{dx^{2}}u-2mx\\frac{d}{dx}u-2 x\\frac{d}{dx}u+n(n+1)u-m\\cdot(m-1)u-2mu=0\\\\\n",
    "\\\\\n",
    "(1-x^2)\\frac{d^{2}}{dx^{2}}u-(2m+2) x\\frac{d}{dx}u+n(n+1)u-m\\cdot(m-1)u-2mu=0\n",
    "\\\\\n",
    "\\\\\n",
    "(1-x^2)\\frac{d^{2}}{dx^{2}}u-2(m+1) x\\frac{d}{dx}u+\\left[n(n+1)-m(m-1)-2m\\right]u=0\n",
    "\\\\\n",
    "\\\\\n",
    "(1-x^2)\\frac{d^{2}}{dx^{2}}u-2(m+1) x\\frac{d}{dx}u+\\left[n(n+1)-(m^2-m)-2m\\right]u=0\n",
    "\\\\\n",
    "\\\\\n",
    "(1-x^2)\\frac{d^{2}}{dx^{2}}u-2(m+1) x\\frac{d}{dx}u+\\left[n(n+1)-m^2+m-2m\\right]u=0\n",
    "\\\\\n",
    "\\\\\n",
    "(1-x^2)\\frac{d^{2}}{dx^{2}}u-2(m+1) x\\frac{d}{dx}u+\\left[n(n+1)-m^2-m\\right]u=0\n",
    "\\\\\n",
    "\\\\\n",
    "(1-x^2)\\frac{d^{2}}{dx^{2}}u-2(m+1) x\\frac{d}{dx}u+\\left[n(n+1)-m(m+1)\\right]u=0\n",
    "\\end{align}\n",
    "\n",
    "(Esta última expresión es equivalente a la mostrada en [12] como N-8) "
   ]
  },
  {
   "cell_type": "markdown",
   "metadata": {},
   "source": [
    "Necesitamos una expresión para la solución $u$. Para esto, introducimos una nueva variable: $y=(1-x^2)^{\\frac{m}{2}}u$. \n",
    "\n",
    "A primera vista podríamos pensar que está varible nos la \"sacamos de la manga\". Una explicación para ella la podemos encontrar en [14]. De acuerdo a esta referencia, si regresamos a la ecuación polar, notamos que si hacemos $m=0$ la ecuación se convierte, como ya dijimos, en la ecuación de Legendre, por esto podemos considerar que la solución a la ecuación polar estará en términos de los polinomios de Legendre $P$, por otro lado también vemos que el denominaddor $1-z^2$ es un término \"problematico\". Lo anterior nos lleva a una primera propuesta de solución:\n",
    "\n",
    "\\begin{align}\n",
    "\\Theta(z)=y=P^*=(1-z^2)P\n",
    "\\end{align}\n",
    "\n",
    "Donde $P$ es la expresión de los polinomios de Legendre\n",
    "\n",
    "Por otro lado el exponente ${\\frac{m}{2}}$ es obtenido experimentalmente. \n",
    "\n",
    "de este modo tenemos la solución: \n",
    "\n",
    "\\begin{align}\n",
    "\\Theta(z)=y=P^*=(1-x^2)^{\\frac{m}{2}}u=(1-x^2)^{\\frac{m}{2}}\\frac{d^m}{dx^m}P\n",
    "\\end{align}"
   ]
  },
  {
   "cell_type": "markdown",
   "metadata": {},
   "source": [
    "Aclarado lo anterior, despejamos u:\n",
    "\n",
    "\\begin{align}\n",
    "u=\\frac{y}{(1-x^2)^{\\frac{m}{2}}}=y(1-x^2)^{\\frac{-m}{2}}\n",
    "\\end{align}\n",
    "\n",
    "sustituyendo:\n",
    "\n",
    "\\begin{align}\n",
    "(1-x^2)\\frac{d^{2}}{dx^{2}}u-2(m-1) x\\frac{d}{dx}u+\\left[n(n+1)-m(m+1)\\right]u=0\\\\\n",
    "\\\\\n",
    "(1-x^2)\\frac{d^{2}}{dx^{2}}\\left[y(1-x^2)^{\\frac{-m}{2}}\\right]-2(m-1) x\\frac{d}{dx}\\left[y(1-x^2)^{\\frac{-m}{2}}\\right]+\\left[n(n+1)-m(m+1)\\right]y(1-x^2)^{\\frac{-m}{2}}=0\n",
    "\\end{align}\n",
    "\n",
    "Calculamos las derivadas del primer y segundo término usando la regla del producto de derivadas.\n",
    "\n",
    "Obtenemos:\n",
    "\\begin{align}\n",
    "\\frac{d}{dx}\\left[y(1-x^2)^{\\frac{-m}{2}}\\right]\n",
    "\\end{align}\n",
    "\n",
    "Si hacemos $f=(1-x^2)^{\\frac{-m}{2}}$, usando la regla de la cadena: $u=1-x^2$ y $\\frac{du}{dx}=-2x$:\n",
    "\n",
    "\\begin{align}\n",
    "\\frac{df}{dx}=\\frac{df}{du}\\frac{du}{dx}=\\frac{d}{du}(u^{-\\frac{m}{2}})\\frac{d}{dx}(1-x^2)=\n",
    "-\\frac{m}{2}(u^{-\\frac{m}{2}-1})(-2x)=mx(1-x^2)^{-\\frac{m}{2}-1}\n",
    "\\end{align}\n",
    "\n",
    "Por lo tanto:\n",
    "\\begin{align}\n",
    "\\frac{d}{dx}\\left[y(1-x^2)^{\\frac{-m}{2}}\\right]=yf'+fy'=ymx(1-x^2)^{-\\frac{m}{2}-1}+(1-x^2)^{\\frac{-m}{2}}y'=\\frac{ymx}{(1-x^2)^{\\frac{m}{2}+1}}+\\frac{y'}{(1-x^2)^{\\frac{m}{2}}}=\\frac{y'}{(1-x^2)^{\\frac{m}{2}}}+\\left[\\frac{ymx}{(1-x^2)^{\\frac{m}{2}}(1-x^2)}\\right]=\\frac{1}{(1-x^2)^{\\frac{m}{2}}}\\left[y'+\\frac{ymx}{(1-x^2)}\\right]\n",
    "\\end{align}\n",
    "\n",
    "Así:\n",
    "\n",
    "\\begin{align}\n",
    "\\frac{d}{dx}\\left[y(1-x^2)^{\\frac{-m}{2}}\\right]=\\frac{1}{(1-x^2)^{\\frac{m}{2}}}\\left[y'+\\frac{ymx}{(1-x^2)}\\right]\n",
    "\\end{align}\n",
    "\n",
    "\n",
    "Aunque sabemos que $y'=1$ por fines prácticos lo dejaremos como $y'$\n",
    "\n",
    "---\n",
    "\n",
    "Ahora calculamos la segunda derivada: \n",
    "\n",
    "\\begin{align}\n",
    "\\frac{d^2}{dx^2}\\left[y(1-x^2)^{\\frac{-m}{2}}\\right]=\\frac{d}{dx}\\left[\\frac{1}{(1-x^2)^{\\frac{m}{2}}}\\left(y'+\\frac{ymx}{(1-x^2)}\\right)\\right]\n",
    "\\end{align}\n",
    "\n",
    "\n",
    "Usamos la fórmula del producto de derivadas y hacemos $u=\\frac{1}{(1-x^2)^{\\frac{m}{2}}}$ y $v=y'+\\frac{ymx}{(1-x^2)}$\n",
    "\n",
    "De un resultado anterior tenemos que $u'=mx(1-x^2)^{-\\frac{m}{2}-1}$\n",
    "\n",
    "A continuación calcularemos $v'$\n",
    "\n",
    "\n",
    "\\begin{align}\n",
    "v'=\\frac{d}{dx}\\left(y'+\\frac{ymx}{(1-x^2)}\\right)=y''+\\frac{d}{dx}\\left(ymx(1-x^2)^{-1}\\right)\n",
    "\\end{align}\n",
    "\n",
    "\n",
    "\n",
    "Ahora debemos obtener $\\frac{d}{dx}\\left(ymx(1-x^2)^{-1}\\right)$ \n",
    "\n",
    "\\begin{align}\n",
    "\\frac{d}{dx}\\left(ymx(1-x^2)^{-1}\\right)=m\\frac{d}{dx}\\left(yx(1-x^2)^{-1}\\right)\n",
    "\\end{align}\n",
    "\n",
    "Sea $f=y$ y $g=x(1-x^2)^{-1}$, entonces $f'=y'$, mientras que para $g'$ debemos usar nuevamente la fórmula de la derivada del producto de funciones:\n",
    "\n",
    "hacemos $h=x$ e $i=(1-x^2)^{-1}$. Entonces $h'=1$ e $i'=\\frac{d}{dx}(1-x^2)^{-1}=-2x(-1)(1-x^2)^{-2}=2x(1-x^2)^{-2}$\n",
    "\n",
    "\\begin{align}\n",
    "g'=\\frac{d}{dx}(x(1-x^2)^{-1})=h'i+i'h=(1)((1-x^2)^{-1})+2x(1-x^2)^{-2}(x)=(1-x^2)^{-1}+2x^2(1-x^2)^{-2}=\\frac{1}{1-x^2}+\\frac{2x^2}{(1-x^2)^{2}}\n",
    "\\end{align}\n",
    "\n",
    "Sustituyendo:\n",
    "\n",
    "\\begin{align}\n",
    "\\frac{d}{dx}\\left(ymx(1-x^2)^{-1}\\right)=m\\frac{d}{dx}\\left(yx(1-x^2)^{-1}\\right)=m(fg'+f'g)=m\\left[(y)\\left(\\frac{1}{1-x^2}+\\frac{2x^2}{(1-x^2)^{2}}\\right)+(y')(x(1-x^2)^{-1})\\right]=m\\left[\\frac{y}{1-x^2}+\\frac{2x^2y}{(1-x^2)^{2}}+\\frac{xy'}{1-x^2}\\right]\n",
    "\\end{align}\n",
    "\n",
    "\n",
    "Sustituyendo:\n",
    "\n",
    "\\begin{align}\n",
    "v'=\\frac{d}{dx}\\left(y'+\\frac{ymx}{(1-x^2)}\\right)=y''+m\\left[\\frac{y}{1-x^2}+\\frac{2x^2y}{(1-x^2)^{2}}+\\frac{xy'}{1-x^2}\\right]\n",
    "\\end{align}\n",
    "\n",
    "Volvemos a sustituir:\n",
    "\n",
    "\\begin{align}\n",
    "\\frac{d^2}{dx^2}\\left[y(1-x^2)^{\\frac{-m}{2}}\\right]=\\frac{d}{dx}\\left[\\frac{1}{(1-x^2)^{\\frac{m}{2}}}\\left(y'+\\frac{ymx}{(1-x^2)}\\right)\\right]=uv'+u'v\n",
    "=\\left(\\frac{1}{(1-x^2)^{\\frac{m}{2}}}\\right)\\left(y''+m\\left[\\frac{y}{1-x^2}+\\frac{2x^2y}{(1-x^2)^{2}}+\\frac{xy'}{1-x^2}\\right]\\right)+\\left(mx(1-x^2)^{-\\frac{m}{2}-1}\\right)\\left(y'+\\frac{ymx}{(1-x^2)}\\right)\n",
    "=\\left(\\frac{1}{(1-x^2)^{\\frac{m}{2}}}\\right)\\left(y''+\\frac{my}{1-x^2}+\\frac{m2x^2y}{(1-x^2)^{2}}+\\frac{mxy'}{1-x^2}\\right)+\\left(\\frac{1}{(1-x^2)^{\\frac{m}{2}}}\\right)\\left(\\frac{mx}{1-x^2}\\right)\\left(y'+\\frac{ymx}{1-x^2}\\right)\n",
    "=\\left(\\frac{1}{(1-x^2)^{\\frac{m}{2}}}\\right)\\left[y''+\\frac{my}{1-x^2}+\\frac{m2x^2y}{(1-x^2)^{2}}+\\frac{mxy'}{1-x^2}+\\frac{mxy'}{1-x^2}+\\frac{ym^2x^2}{(1-x^2)^2} \\right]\n",
    "=\\left(\\frac{1}{(1-x^2)^{\\frac{m}{2}}}\\right)\\left[y''+\\frac{my}{1-x^2}+\\frac{mxy'}{1-x^2}+\\frac{mxy'}{1-x^2}+\\frac{m2x^2y}{(1-x^2)^{2}}+\\frac{ym^2x^2}{(1-x^2)^2} \\right]\n",
    "=\\left(\\frac{1}{(1-x^2)^{\\frac{m}{2}}}\\right)\\left[y''+\\frac{my}{1-x^2}+\\frac{mxy'}{1-x^2}+\\frac{mxy'}{1-x^2}+\\frac{mx^2y}{(1-x^2)^{2}}(m+2) \\right]\n",
    "=\\left(\\frac{1}{(1-x^2)^{\\frac{m}{2}}}\\right)\\left[y''+\\frac{m}{1-x^2}(y+xy'+xy')+\\frac{mx^2y}{(1-x^2)^{2}}(m+2) \\right]\n",
    "=\\left(\\frac{1}{(1-x^2)^{\\frac{m}{2}}}\\right)\\left[y''+\\frac{m}{1-x^2}(y+2xy')+\\frac{mx^2y}{(1-x^2)^{2}}(m+2) \\right]\n",
    "\\end{align}\n",
    "\n",
    "Así:\n",
    "\n",
    "\\begin{align}\n",
    "\\frac{d^2}{dx^2}\\left[y(1-x^2)^{\\frac{-m}{2}}\\right]=\\left(\\frac{1}{(1-x^2)^{\\frac{m}{2}}}\\right)\\left[y''+\\frac{m}{1-x^2}(2xy'+y)+\\frac{x^2ym}{(1-x^2)^{2}}(m+2) \\right]\n",
    "\\end{align}\n",
    "\n",
    "\n",
    "Sustituyendo en la ecuación:\n",
    "\n",
    "\\begin{align}\n",
    "(1-x^2)\\frac{d^{2}}{dx^{2}}\\left[y(1-x^2)^{\\frac{-m}{2}}\\right]-2(m-1) x\\frac{d}{dx}\\left[y(1-x^2)^{\\frac{-m}{2}}\\right]+\\left[n(n+1)-m(m+1)\\right]y(1-x^2)^{\\frac{-m}{2}}=0\n",
    "\\\\\n",
    "\\\\\n",
    "(1-x^2)\\left(\\frac{1}{(1-x^2)^{\\frac{m}{2}}}\\right)\\left[y''+\\frac{m}{1-x^2}(2xy'+y)+\\frac{x^2ym}{(1-x^2)^{2}}(m+2) \\right]-2(m+1) (x)\\frac{1}{(1-x^2)^{\\frac{m}{2}}}\\left[y'+\\frac{ymx}{(1-x^2)}\\right]+\\left[n(n+1)-m(m+1)\\right]y(1-x^2)^{\\frac{-m}{2}}=0\n",
    "\\end{align}\n",
    "\n",
    "Multiplicamos la expresión anterior por $(1-x^2)^{\\frac{-m}{2}}$\n",
    "\n",
    "\\begin{align}\n",
    "(1-x^2)\\left[y''+\\frac{m}{1-x^2}(2xy'+y)+\\frac{x^2ym}{(1-x^2)^{2}}(m+2) \\right]-2(m+1) (x)\\left[y'+\\frac{ymx}{(1-x^2)}\\right]+\\left[n(n+1)-m(m+1)\\right]y=0\n",
    "\\end{align}\n",
    "\n",
    "Desarrollamos:\n",
    "\n",
    "\\begin{align}\n",
    "(1-x^2)y''+m(2xy'+y)+\\frac{x^2ym}{1-x^2}(m+2)-(2mx+2x)\\left[y'+\\frac{ymx}{(1-x^2)}\\right]+\\left[n(n+1)-m(m+1)\\right]y=0\n",
    "\\end{align}\n",
    "\n",
    "\\begin{align}\n",
    "(1-x^2)y''+m(2xy'+y)+\\frac{x^2ym}{1-x^2}(m+2)-\\left[2mx\\left(\\frac{mxy}{1-x^{2}}\\right)+2x\\left(\\frac{mxy}{1-x^{2}}\\right)+2mxy'+2xy'\\right]+\\left[n(n+1)-m(m+1)\\right]y=0\n",
    "\\end{align}\n",
    "\n",
    "\\begin{align}\n",
    "(1-x^2)y''+m(2xy'+y)+\\frac{m^2x^2y+2mx^2y}{1-x^2}-2mx\\left(\\frac{mxy}{1-x^{2}}\\right)-2x\\left(\\frac{mxy}{1-x^{2}}\\right)-2mxy'-2xy'+n(n+1)y-m(m+1)y=0\n",
    "\\end{align}\n",
    "\n",
    "\\begin{align}\n",
    "(1-x^2)y''+2mxy'+ym+\\frac{m^2x^2y}{1-x^2}+\\frac{2mx^2y}{1-x^2}-2mx\\left(\\frac{mxy}{1-x^{2}}\\right)-2x\\left(\\frac{mxy}{1-x^{2}}\\right)-2mxy'-2xy'+n(n+1)y-m(m+1)y=0\n",
    "\\end{align}\n",
    "\n",
    "\\begin{align}\n",
    "(1-x^2)y''+2mxy'+ym+\\frac{m^2x^2y}{1-x^2}+\\frac{2mx^2y}{1-x^2}-\\frac{2m^2x^2y}{1-x^{2}}-\\frac{2mx^2y}{1-x^{2}}-2mxy'-2xy'+n(n+1)y-m(m+1)y=0\n",
    "\\end{align}\n",
    "\n",
    "\\begin{align}\n",
    "(1-x^2)y''+ym+\\frac{m^2}{1-x^2}\\left[x^2y-2x^2y\\right]-2xy'+n(n+1)y-m(m+1)y=0\n",
    "\\end{align}\n",
    "\n",
    "\\begin{align}\n",
    "(1-x^2)y''+my-\\frac{m^2x^2y}{1-x^2}-2xy'+n(n+1)y-(m^2+m)y=0\n",
    "\\end{align}\n",
    "\n",
    "\\begin{align}\n",
    "(1-x^2)y''+my-\\frac{m^2x^2y}{1-x^2}-2xy'+n(n+1)y-m^2y-my=0\n",
    "\\end{align}\n",
    "\n",
    "\\begin{align}\n",
    "(1-x^2)y''-\\frac{m^2x^2y}{1-x^2}-2xy'+n(n+1)y-m^2y=0\n",
    "\\end{align}\n",
    "\n",
    "\\begin{align}\n",
    "(1-x^2)y''-2xy'+n(n+1)y-\\frac{m^2x^2y}{1-x^2}-m^2y=0\n",
    "\\end{align}\n",
    "\n",
    "\\begin{align}\n",
    "(1-x^2)y''-2xy'+\\left[n(n+1)-\\frac{m^2x^2}{1-x^2}-m^2\\right]y=0\n",
    "\\end{align}\n",
    "\n",
    "\\begin{align}\n",
    "(1-x^2)y''-2xy'+\\left[n(n+1)-m^2\\left(\\frac{x^2}{1-x^2}+1\\right)\\right]y=0\n",
    "\\end{align}\n",
    "\n",
    "\\begin{align}\n",
    "(1-x^2)y''-2xy'+\\left[n(n+1)-m^2\\left(\\frac{x^2}{1-x^2}+\\frac{1-x^2}{1-x^2}\\right)\\right]y=0\n",
    "\\end{align}\n",
    "\n",
    "\\begin{align}\n",
    "(1-x^2)y''-2xy'+\\left[n(n+1)-m^2\\left(\\frac{x^2+1-x^2}{1-x^2}\\right)\\right]y=0\n",
    "\\end{align}\n",
    "\n",
    "\\begin{align}\n",
    "(1-x^2)y''-2xy'+\\left[n(n+1)-m^2\\left(\\frac{1}{1-x^2}\\right)\\right]y=0\n",
    "\\end{align}\n",
    "\n",
    "\\begin{align}\n",
    "(1-x^2)y''-2xy'+\\left[n(n+1)-\\frac{m^2}{1-x^2}\\right]y=0\n",
    "\\end{align}"
   ]
  },
  {
   "cell_type": "markdown",
   "metadata": {},
   "source": [
    "Recapitulando, partimos de la ecuación polar, a la cual, le dimos una apariencia cercana a la ecuación de Legendre. Por su parecido se supuso que su solución estaría en términos de los polinomios de Legendre, por tal motivo, se tomó la ecuación de Legendre, se modificó y se le dió una solución tal que nos llevó a la ecuación polar, mostrando que la solución propuesta $u=(1-x^2)^{\\frac{m}{2}}\\frac{d^m}{dx^m}P$ (donde $P$ son los polinomios de Legendre) es la solución a la ecuación polar. "
   ]
  },
  {
   "cell_type": "code",
   "execution_count": 52,
   "metadata": {},
   "outputs": [
    {
     "ename": "LoadError",
     "evalue": "syntax: extra token \"IPython\" after end of expression",
     "output_type": "error",
     "traceback": [
      "syntax: extra token \"IPython\" after end of expression",
      ""
     ]
    }
   ],
   "source": [
    ",\n",
    "from IPython.core.display import Image \n",
    "Image(filename=(\"/Ecuaciones/screenshot45.png\"))"
   ]
  },
  {
   "cell_type": "markdown",
   "metadata": {},
   "source": [
    "![Image Test](/home/solaris/Escritorio/Programación/Jupyter/Ecuaciones/screenshot45.png)\n",
    "![blocks](/home/solaris/Escritorio/Programación/Jupyter/Ecuaciones/screenshot45.png)\\n\"\n"
   ]
  },
  {
   "cell_type": "code",
   "execution_count": 12,
   "metadata": {},
   "outputs": [
    {
     "ename": "LoadError",
     "evalue": "SystemError: opening file screenshot45.png: No existe el archivo o el directorio",
     "output_type": "error",
     "traceback": [
      "SystemError: opening file screenshot45.png: No existe el archivo o el directorio",
      "",
      " in #systemerror#51 at ./error.jl:34 [inlined]",
      " in systemerror(::String, ::Bool) at ./error.jl:34",
      " in open(::String, ::Bool, ::Bool, ::Bool, ::Bool, ::Bool) at ./iostream.jl:89",
      " in open(::Base.##287#288{Tuple{}}, ::String) at ./iostream.jl:111",
      " in read(::String) at ./io.jl:109"
     ]
    }
   ],
   "source": [
    "display(\"image/png\", read(\"screenshot45.png\"))"
   ]
  },
  {
   "cell_type": "code",
   "execution_count": null,
   "metadata": {},
   "outputs": [
    {
     "name": "stdout",
     "output_type": "stream",
     "text": [
      "Library \"ImageMagick\" is not installed but is recommended as a library to load format: \".png\"\n",
      "Should we install \"ImageMagick\" for you? (y/n):\n"
     ]
    },
    {
     "name": "stderr",
     "output_type": "stream",
     "text": [
      "Error encountered while loading \"Ecuaciones/screenshot45.png\".\n",
      "Fatal error:\n"
     ]
    }
   ],
   "source": [
    "using FileIO\n",
    "display(FileIO.load(\"Ecuaciones/screenshot45.png\"))"
   ]
  },
  {
   "cell_type": "markdown",
   "metadata": {},
   "source": [
    "\\begin{align}\n",
    "\\\\(l-m+1) p^{m}_{l+1}(x)=(2l+1)xp^{m}_{l}(x)-(l+m)p^{m}_{l-1}(x)\n",
    "\\\\ p^{m}_{l+1}(x)=\\frac{1}{(l-m+1)}(2l+1)xp^{m}_{l}(x)-(l+m)p^{m}_{l-1}(x)\n",
    "\\\\l+1=3\n",
    "\\\\l=3-1=2\n",
    "\\\\ p^{m}_{3}(x)=\\frac{1}{(l-m+1)}(2l+1)xp^{m}_{2}(x)-(l+m)p^{m}_{1}(x)\n",
    "\\\\ p^{m}_{3}(x)=\\frac{1}{(2-m+1)}(2(2)+1)xp^{m}_{2}(x)-(2+m)p^{m}_{1}(x)\n",
    "\\end{align}"
   ]
  },
  {
   "cell_type": "code",
   "execution_count": 5,
   "metadata": {},
   "outputs": [
    {
     "data": {
      "text/plain": [
       "af_legendre (generic function with 1 method)"
      ]
     },
     "execution_count": 5,
     "metadata": {},
     "output_type": "execute_result"
    }
   ],
   "source": [
    "function af_legendre(ll,m,x)\n",
    "    \n",
    "    l=ll+1\n",
    "    p=zeros(l)\n",
    "    \n",
    "   p[1]=1\n",
    "   p[2]=x\n",
    "    \n",
    "    if l==1\n",
    "        \n",
    "        return p[1]\n",
    "        \n",
    "    elseif l==2\n",
    "        \n",
    "        return p[2]\n",
    "        \n",
    "    else\n",
    "    \n",
    "        for i=3:l\n",
    "            p[i]=((2(i-2)+1)*x*p[i-1]-((i-2)+m)p[i-2])/((i-2)-m+1)\n",
    "            #p[i]=(((2*i))*x*p[i-1]-(i-1)*p[i-2])/(i+1)\n",
    "        end\n",
    "\n",
    "        return p\n",
    "    end\n",
    "    \n",
    "    \n",
    "    \n",
    "end    "
   ]
  },
  {
   "cell_type": "code",
   "execution_count": 6,
   "metadata": {},
   "outputs": [
    {
     "data": {
      "text/plain": [
       "3-element Array{Float64,1}:\n",
       "  1.0\n",
       "  0.0\n",
       " -0.5"
      ]
     },
     "execution_count": 6,
     "metadata": {},
     "output_type": "execute_result"
    }
   ],
   "source": [
    "af_legendre(2,0,0)"
   ]
  },
  {
   "cell_type": "code",
   "execution_count": 6,
   "metadata": {
    "collapsed": true
   },
   "outputs": [],
   "source": [
    "using GSL"
   ]
  },
  {
   "cell_type": "code",
   "execution_count": 8,
   "metadata": {},
   "outputs": [
    {
     "data": {
      "text/plain": [
       "-6.661338147750939e-16"
      ]
     },
     "execution_count": 8,
     "metadata": {},
     "output_type": "execute_result"
    }
   ],
   "source": [
    "x = randn()\n",
    "sf_hyperg_U(-1.0, -1.0, x) - (1 + x)"
   ]
  },
  {
   "cell_type": "code",
   "execution_count": 9,
   "metadata": {},
   "outputs": [
    {
     "data": {
      "text/plain": [
       "-0.5"
      ]
     },
     "execution_count": 9,
     "metadata": {},
     "output_type": "execute_result"
    }
   ],
   "source": [
    "sf_legendre_Plm(2, 0, 0)"
   ]
  },
  {
   "cell_type": "code",
   "execution_count": 72,
   "metadata": {},
   "outputs": [
    {
     "data": {
      "image/png": "[encoded data removed]",
      "text/plain": [
       "PyPlot.Figure(PyObject <matplotlib.figure.Figure object at 0x7ffb5eeb83c8>)"
      ]
     },
     "metadata": {},
     "output_type": "display_data"
    }
   ],
   "source": [
    "#Podemos comparar las gráficas obtenidas con las que se muestran de forma on-line [8][9]\n",
    "#Conjuntos de datos\n",
    "x = linspace(-1.0, 1.0, 1000)\n",
    "\n",
    "l=2\n",
    "m=1\n",
    "\n",
    "y=[]\n",
    "for i=1:length(x)\n",
    "    yy= sf_legendre_Plm(l,m,x[i])\n",
    "    y=push!(y,yy)        \n",
    "end \n",
    "\n",
    "#Gráfica\n",
    "\n",
    "fig,ax = subplots()\n",
    "#ax[:set_ylim](-1, 2.0)\n",
    "#ax[:set_xlim](-1, 1.0)\n",
    "title(\"Funciones asociadas de Legendre\")#Título de la gráfica\n",
    "xlabel(\"\\$x\\$\") #Etiqueta para el eje X\n",
    "ylabel(\" \\$P_l (x)\\$\")#Etiqueta para el eje Y\n",
    " \n",
    "axhline(0, color=\"orange\") \n",
    "grid()\n",
    "\n",
    "plot(x,y,label=\"\\$P_{l}(x)\\$\",color=\"red\") #label=r\"$P_{}(x)$\".format(n)\n",
    " \n",
    "legend(loc=\"best\")\n",
    "show()"
   ]
  },
  {
   "cell_type": "code",
   "execution_count": 7,
   "metadata": {},
   "outputs": [
    {
     "name": "stderr",
     "output_type": "stream",
     "text": [
      "WARNING: Method definition armonico(Any, Any, Any, Any) in module Main at In[4]:3 overwritten at In[7]:3.\n"
     ]
    },
    {
     "data": {
      "text/plain": [
       "armonico (generic function with 1 method)"
      ]
     },
     "execution_count": 7,
     "metadata": {},
     "output_type": "execute_result"
    }
   ],
   "source": [
    "function armonico(l,m,t,phi)\n",
    "    \n",
    "    x=cos(t)\n",
    "    \n",
    "    p=sf_legendre_Plm(l,m,x)\n",
    "    \n",
    "    num=(2*l+1)*(factorial(l-m))\n",
    "    den=(4*pi)*(l+m)\n",
    "    \n",
    "    Y=sqrt(num/den)*p*exp(im*m*phi)   \n",
    "    return Y\n",
    "end    "
   ]
  },
  {
   "cell_type": "code",
   "execution_count": 25,
   "metadata": {},
   "outputs": [
    {
     "data": {
      "text/plain": [
       "0.4886025119029199 + 0.0im"
      ]
     },
     "execution_count": 25,
     "metadata": {},
     "output_type": "execute_result"
    }
   ],
   "source": [
    "armonico(1,0,0,2)"
   ]
  },
  {
   "cell_type": "code",
   "execution_count": 27,
   "metadata": {},
   "outputs": [
    {
     "data": {
      "text/plain": [
       "100-element LinSpace{Float64}:\n",
       " 0.0,0.0634665,0.126933,0.1904,0.253866,…,6.09279,6.15625,6.21972,6.28319"
      ]
     },
     "execution_count": 27,
     "metadata": {},
     "output_type": "execute_result"
    }
   ],
   "source": [
    "theta=linspace(-1.0, 1.0, 100);\n",
    "phi=linspace(0.0,2*pi, 100)"
   ]
  },
  {
   "cell_type": "code",
   "execution_count": 35,
   "metadata": {},
   "outputs": [
    {
     "data": {
      "text/plain": [
       "-0.2884185921814218 - 0.0365342870020377im"
      ]
     },
     "execution_count": 35,
     "metadata": {},
     "output_type": "execute_result"
    }
   ],
   "source": [
    "armonico(1,1,1,0.126)"
   ]
  },
  {
   "cell_type": "code",
   "execution_count": 42,
   "metadata": {},
   "outputs": [
    {
     "data": {
      "text/plain": [
       "100-element Array{Float64,1}:\n",
       " -0.0\n",
       " -0.0\n",
       " -0.0\n",
       " -0.0\n",
       " -0.0\n",
       " -0.0\n",
       " -0.0\n",
       " -0.0\n",
       " -0.0\n",
       " -0.0\n",
       " -0.0\n",
       " -0.0\n",
       " -0.0\n",
       "  ⋮  \n",
       " -0.0\n",
       " -0.0\n",
       " -0.0\n",
       " -0.0\n",
       " -0.0\n",
       " -0.0\n",
       " -0.0\n",
       " -0.0\n",
       " -0.0\n",
       " -0.0\n",
       " -0.0\n",
       " -0.0"
      ]
     },
     "execution_count": 42,
     "metadata": {},
     "output_type": "execute_result"
    }
   ],
   "source": [
    "z=zeros(100);\n",
    "phi=linspace(0.0,2*pi,100)\n",
    "\n",
    "for i=1:100\n",
    "    z[i]=armonico(1,1,pi,phi[i])\n",
    "end\n",
    "z"
   ]
  },
  {
   "cell_type": "code",
   "execution_count": 17,
   "metadata": {},
   "outputs": [
    {
     "ename": "LoadError",
     "evalue": "InexactError()",
     "output_type": "error",
     "traceback": [
      "InexactError()",
      "",
      " in convert at ./complex.jl:23 [inlined]",
      " in setindex!(::Array{Float64,1}, ::Complex{Float64}, ::Int64) at ./array.jl:415",
      " in macro expansion; at ./In[17]:4 [inlined]",
      " in anonymous at ./<missing>:?"
     ]
    }
   ],
   "source": [
    "m=zeros(100,100) \n",
    "\n",
    "\n",
    "for i=1:100\n",
    "    for j=1:100\n",
    "        m[i]=armonico(1,1,theta[i],phi[j])\n",
    "    end\n",
    "end"
   ]
  },
  {
   "cell_type": "code",
   "execution_count": 47,
   "metadata": {},
   "outputs": [
    {
     "data": {
      "text/plain": [
       "3×3 Array{Float64,2}:\n",
       " 0.0  0.0  0.0\n",
       " 0.0  0.0  0.0\n",
       " 0.0  0.0  0.0"
      ]
     },
     "execution_count": 47,
     "metadata": {},
     "output_type": "execute_result"
    }
   ],
   "source": [
    "m=zeros(3,3) \n"
   ]
  },
  {
   "cell_type": "code",
   "execution_count": 53,
   "metadata": {},
   "outputs": [
    {
     "data": {
      "text/plain": [
       "4"
      ]
     },
     "execution_count": 53,
     "metadata": {},
     "output_type": "execute_result"
    }
   ],
   "source": [
    "m[1]=1;m[2]=2;m[3]=3;m[4]=4;"
   ]
  },
  {
   "cell_type": "code",
   "execution_count": 54,
   "metadata": {},
   "outputs": [
    {
     "data": {
      "text/plain": [
       "3×3 Array{Float64,2}:\n",
       " 1.0  4.0  0.0\n",
       " 2.0  0.0  0.0\n",
       " 3.0  0.0  0.0"
      ]
     },
     "execution_count": 54,
     "metadata": {},
     "output_type": "execute_result"
    }
   ],
   "source": [
    "m"
   ]
  },
  {
   "cell_type": "code",
   "execution_count": 7,
   "metadata": {},
   "outputs": [
    {
     "data": {
      "text/plain": [
       "af_legendre2 (generic function with 1 method)"
      ]
     },
     "execution_count": 7,
     "metadata": {},
     "output_type": "execute_result"
    }
   ],
   "source": [
    "function af_legendre2(ll,m,x)\n",
    "    \n",
    "    l=ll+1\n",
    "    p=zeros(l)\n",
    "    \n",
    "   p[1]=sf_legendre_Plm(1,m,x)\n",
    "   p[2]=sf_legendre_Plm(2,m,x)\n",
    "    \n",
    "    if l==1\n",
    "        \n",
    "        return p[1]\n",
    "        \n",
    "    elseif l==2\n",
    "        \n",
    "        return p[2]\n",
    "        \n",
    "    else\n",
    "\n",
    "        for i=3:l\n",
    "            p[i]=((2(i-2)+1)*x*sf_legendre_Plm(i-1,m,x)-((i-2)+m)sf_legendre_Plm(i-2,m,x))/((i-2)-m+1)\n",
    "            #p[i]=((2(i-1)+1)*x*sf_legendre_Plm(i-1,m,x)-((i-1)+m)*sf_legendre_Plm(l-2,m,x))/((i-1)-m+1)\n",
    "            #p[i]=((2(i-2)+1)*x*p[i-1]-((i-2)+m)p[i-2])/((i-2)-m+1)\n",
    "            #p[i]=(((2*i))*x*p[i-1]-(i-1)*p[i-2])/(i+1)\n",
    "        end\n",
    "\n",
    "        return p\n",
    "    end\n",
    "    \n",
    "    \n",
    "    \n",
    "end    "
   ]
  },
  {
   "cell_type": "code",
   "execution_count": 52,
   "metadata": {},
   "outputs": [
    {
     "data": {
      "text/plain": [
       "1.0"
      ]
     },
     "execution_count": 52,
     "metadata": {},
     "output_type": "execute_result"
    }
   ],
   "source": [
    "sf_legendre_Plm(,0,1)"
   ]
  },
  {
   "cell_type": "code",
   "execution_count": 53,
   "metadata": {},
   "outputs": [
    {
     "data": {
      "text/plain": [
       "-0.5"
      ]
     },
     "execution_count": 53,
     "metadata": {},
     "output_type": "execute_result"
    }
   ],
   "source": [
    "af_legendre2(2,0,0)"
   ]
  },
  {
   "cell_type": "code",
   "execution_count": 19,
   "metadata": {},
   "outputs": [
    {
     "data": {
      "text/plain": [
       "1.0471975511965979"
      ]
     },
     "execution_count": 19,
     "metadata": {},
     "output_type": "execute_result"
    }
   ],
   "source": [
    "acos(0.5)"
   ]
  },
  {
   "cell_type": "code",
   "execution_count": null,
   "metadata": {
    "collapsed": true
   },
   "outputs": [],
   "source": []
  },
  {
   "cell_type": "code",
   "execution_count": 68,
   "metadata": {},
   "outputs": [
    {
     "data": {
      "image/png": "[encoded data removed]",
      "text/plain": [
       "PyPlot.Figure(PyObject <matplotlib.figure.Figure object at 0x7ffb5f71fbe0>)"
      ]
     },
     "metadata": {},
     "output_type": "display_data"
    }
   ],
   "source": [
    "x = linspace(-1.0, 1.0, 1000)\n",
    "l=3\n",
    "m=0\n",
    "y=[]\n",
    "for i=1:length(x)\n",
    "    yy= af_legendre2(l,m,x[i])\n",
    "    y=push!(y,yy)        \n",
    "end \n",
    "\n",
    "#Gráfica\n",
    "\n",
    "fig,ax = subplots()\n",
    "#ax[:set_ylim](-1, 2.0)\n",
    "#ax[:set_xlim](-1, 1.0)\n",
    "title(\"Funciones asociadas de Legendre\")#Título de la gráfica\n",
    "xlabel(\"\\$x\\$\") #Etiqueta para el eje X\n",
    "ylabel(\" \\$P_l (x)\\$\")#Etiqueta para el eje Y\n",
    " \n",
    "axhline(0, color=\"orange\") \n",
    "grid()\n",
    "\n",
    "plot(x,y,label=\"\\$P_{l}(x)\\$\") #label=r\"$P_{}(x)$\".format(n)\n",
    " \n",
    "legend(loc=\"best\")\n",
    "show()"
   ]
  },
  {
   "cell_type": "markdown",
   "metadata": {},
   "source": [
    "# Aplicación 2"
   ]
  },
  {
   "cell_type": "markdown",
   "metadata": {},
   "source": [
    "Analizaremos el caso de las temperaturas estaccionarias en una esfera [10]"
   ]
  },
  {
   "cell_type": "markdown",
   "metadata": {},
   "source": [
    "# Referencias\n",
    "\n",
    "\n",
    "* [1] http://www.frsn.utn.edu.ar/GIE/AN/IN/Polinomios_Legendre.pdf\n",
    "* [2] http://la-mecanica-cuantica.blogspot.mx/2009/08/polinomios-de-legendre-aspectos.html\n",
    "* [3] Griffiths, D.J., 1995 Introduction to quantum mechanics, Prentice-Hall,Englewood Cliffs,NJ. pp 121-128 : http://www.fisica.net/quantica/Griffiths%20-%20Introduction%20to%20quantum%20mechanics.pdf\n",
    "* https://stackoverflow.com/questions/36816537/spherical-coordinates-plot-in-matplotlib\n",
    "* [4] http://mathworld.wolfram.com/Condon-ShortleyPhase.html\n",
    "* [5] George B. Arfken. (2005). Mathematical Methods for Physicists. Boston: Elsevier pp 788-789: https://www.google.com.mx/url?sa=t&rct=j&q=&esrc=s&source=web&cd=1&cad=rja&uact=8&ved=0ahUKEwik4cnsr-bUAhXFNiYKHVI7Db0QFggiMAA&url=https%3A%2F%2Ffaculty.psau.edu.sa%2Ffiledownload%2Fdoc-3-pdf-7495bfe3bcb0defae0b795cb11c19e13-original.pdf&usg=AFQjCNGYnHlZBczhActxYGECFoQupaF-GA\n",
    "* [6] http://www.scielo.org.co/pdf/racefn/v37n145/v37n145a09.pdf\n",
    "* [7] http://pythology.blogspot.mx/2015/10/spherical-harmonic-polar-and-equatorial.html?m=1\n",
    "* [8] http://functions.wolfram.com/webMathematica/FunctionPlotting.jsp?name=LegendreP2General\n",
    "* [9] http://keisan.casio.com/exec/system/1180573406\n",
    "* [10] http://www.uru.edu/fondoeditorial/articulos/LEGENGRE.pdf\n",
    "* [11] http://mathworld.wolfram.com/SphericalCoordinates.html\n",
    "* [12] Robert Eisberg, Robert Resnick. (1985). Quantum Physics of Atoms, Molecules, Solids, Nuclei, and Particles. New York, United States: John Wiley & Sons Inc.Appendix N : http://caos.fs.usb.ve/libros/Modern/Eisberg%20R.%20and%20R.%20Resnick%20-%20Quantum%20Physics%20Of%20Atoms,%20Molecules,%20Solids,%20Nuclei,%20And%20Particles.pdf\n",
    "* [13] p336: http://www.astro.caltech.edu/~srk/Ay126/Lectures/Lecture3/SchrodingerModel.pdf \n",
    "* [14] George B. Arfken, Hans J. Weber, Frank E. Harris. (2013). Mathematical Methods for Physicists: A Comprehensive Guide. Boston: Elsevier,Academic Pr. pp 741\n",
    "* [15] Larry C Andrews. (1985). Special Functions for Engineers and Applied Mathematics . USA: Macmillan . p161-162"
   ]
  },
  {
   "cell_type": "code",
   "execution_count": 1,
   "metadata": {},
   "outputs": [
    {
     "data": {
      "text/plain": [
       "1.4142135623730951"
      ]
     },
     "execution_count": 1,
     "metadata": {},
     "output_type": "execute_result"
    }
   ],
   "source": [
    "sqrt(2)"
   ]
  },
  {
   "cell_type": "code",
   "execution_count": 5,
   "metadata": {},
   "outputs": [
    {
     "data": {
      "text/plain": [
       "6"
      ]
     },
     "execution_count": 5,
     "metadata": {},
     "output_type": "execute_result"
    }
   ],
   "source": [
    "factorial(3)"
   ]
  },
  {
   "cell_type": "code",
   "execution_count": null,
   "metadata": {
    "collapsed": true
   },
   "outputs": [],
   "source": []
  }
 ],
 "metadata": {
  "kernelspec": {
   "display_name": "Julia 0.5.2",
   "language": "julia",
   "name": "julia-0.5"
  },
  "language_info": {
   "file_extension": ".jl",
   "mimetype": "application/julia",
   "name": "julia",
   "version": "0.5.2"
  }
 },
 "nbformat": 4,
 "nbformat_minor": 2
}
