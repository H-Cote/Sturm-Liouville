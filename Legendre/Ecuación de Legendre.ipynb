{
 "cells": [
  {
   "cell_type": "markdown",
   "metadata": {},
   "source": [
    "# Ecuación de Legendre"
   ]
  },
  {
   "cell_type": "markdown",
   "metadata": {},
   "source": [
    "## Introducción"
   ]
  },
  {
   "cell_type": "markdown",
   "metadata": {
    "collapsed": true
   },
   "source": [
    "Dada la ecuación de Sturm–Liouville \n",
    " \\begin{align}\n",
    "{d\\over dx}\\left[p(x){d\\over dx}y(x)\\right]-q(x)y(x)+\\lambda r(x)y(x)=0\n",
    "\\end{align}\n",
    "\n",
    "Con las condiciones de frontera:\n",
    "\n",
    " \\begin{align}\n",
    "\\alpha_1 y(a)+\\alpha_2 y'(a)=0\\\\ \n",
    "\\beta_1y(b)+\\beta_2 y'(b)=0 \n",
    "\\end{align}\n",
    "\n",
    "donde $a<x<b$ "
   ]
  },
  {
   "cell_type": "markdown",
   "metadata": {},
   "source": [
    "Podemos obtener la **ecuación de diferencial de Legendre**: \n",
    "\\begin{align}\n",
    "\\\\ \\frac{d}{dx}\\left[1-x^2\\frac{dy}{dx}\\right]+n(n+1)y=0\n",
    "\\end{align}\n",
    "\n",
    "donde:\n",
    "\n",
    "\\begin{align}\n",
    "p(x)&=1-x^2&\n",
    " q(x)&=0\\\\\n",
    "r(x)&=1&\n",
    "\\lambda&=n(n+1)\n",
    "\\end{align}\n",
    "\n",
    "con\n",
    "$-1\\leq x \\leq1$ "
   ]
  },
  {
   "cell_type": "markdown",
   "metadata": {},
   "source": [
    "A continuación escribiremos la ecuación en su forma más usual. \n",
    "\n",
    "Como $y'=\\frac{dy}{dx}$\n",
    "\\begin{align}\n",
    "\\\\ \\frac{d}{dx}\\left[1-x^2y'\\right]+n(n+1)y=0\n",
    "\\end{align}\n",
    "\n",
    "Usando a la fórmula del producto de derivadas en el término $\\frac{d}{dx}\\left[1-x^2y'\\right]$:\n",
    "\n",
    "\\begin{align}\n",
    "\\\\f'=u'v+v'u\n",
    "\\end{align}\n",
    "\n",
    "\\begin{align}\n",
    "u&=1-x^2&\n",
    "v&=y'\\\\\n",
    "u'&=-2x&\n",
    "v'&=y''\n",
    "\\end{align}\n",
    "\n",
    "entonces\n",
    "\n",
    "\\begin{align}\n",
    "\\\\\\frac{d}{dx}\\left[xy'\\right]=-2xy'+y''(1-x^2)= (1-x^2)y''-2xy'\n",
    "\\end{align}\n",
    "\n",
    "Sustituyendo en la ecuación obtenemos:\n",
    "\n",
    "\\begin{align}\n",
    "\\\\ (1-x^2)y''-2xy'+n(n+1)y=0\n",
    "\\end{align}"
   ]
  },
  {
   "cell_type": "markdown",
   "metadata": {},
   "source": [
    "## Soluciones"
   ]
  },
  {
   "cell_type": "code",
   "execution_count": null,
   "metadata": {
    "collapsed": true
   },
   "outputs": [],
   "source": []
  },
  {
   "cell_type": "markdown",
   "metadata": {},
   "source": [
    "# Relación de recurrencia"
   ]
  },
  {
   "cell_type": "markdown",
   "metadata": {},
   "source": [
    "Los polinomios de Legendre pueden construirse usando la relación de recurrencia:\n",
    "\n",
    "Donde los primeros dos términos son: \n",
    "\\begin{align}\n",
    "\\\\ P_{0} = 1\n",
    "\\\\ P_{1} = x\n",
    "\\end{align}\n",
    "\n",
    "\\begin{align}\n",
    "\\\\ (n+1) P_{n+1} = (2n+1) x P_n - n P_{n-1}\n",
    "\\end{align}\n",
    "\n",
    "Entonces\n",
    "\n",
    "\\begin{align}\n",
    "\\\\ P_{n+1} = \\frac{1}{(n+1)}\\left[(2n+1) x P_n - n P_{n-1}\\right]\n",
    "\\end{align}\n",
    "\n",
    "\n",
    "Para calcular $P_{n}$ debemos modificar la expresión anterior de la siguiente forma: \n",
    "\n",
    "\\begin{align}\n",
    "\\\\ P_{n} = \\frac{1}{n}\\left[(2(n-1)+1) x P_{n-1} - (n-1) P_{n-2}\\right]\n",
    "\\end{align}\n",
    "\n",
    "Por ejemplo, si queremos calcular $P_{2}$:\n",
    "\n",
    "\\begin{align}\n",
    "\\\\ P_{2}& = \\frac{1}{2}\\left[(2(2-1)+1) x P_{2-1} - (2-1) P_{2-2}\\right]&\\\\\n",
    " P_{2}& = \\frac{1}{2}\\left[(2(1)+1) x P_{1} - (1) P_{0}\\right]&\\\\\n",
    " P_{2}& = \\frac{1}{2}\\left[3 x P_{1} - P_{0}\\right]&\n",
    "\\end{align}\n",
    "\n",
    "Donde $P_{0}$ y $P_{1}$ son términos conocidos y $x$ es el punto de evaluación del polinomio."
   ]
  },
  {
   "cell_type": "markdown",
   "metadata": {},
   "source": [
    "En Julia, teniendo un vector $v=[9,8,7,6,5]$, el término $v[0]$ no está definido, pues la numeración de los elementos del vector inicia en $1$. De este modo, Julia tendrá definido $v[1]=9$\n",
    "\n",
    "Con base en lo anterior, si contruimos un vector $p$ tal que $p=[P_{0},P_{1},P_{2},...,P_{n}]$ tendremos:\n",
    "\n",
    "\\begin{align}\n",
    "\\\\ p[1] = P_{0}\n",
    "\\\\ p[2]= P_{1}\n",
    "\\end{align}\n",
    "\n",
    "y en general\n",
    "\n",
    "\\begin{align}\n",
    "\\\\ p[n] = P_{n-1}\n",
    "\\end{align}\n",
    "\n",
    "Por lo tanto, debemos modificar la relación de recurrencia para obtener $P_{n-1}$\n",
    "\n",
    "\\begin{align}\n",
    "\\\\ P_{n-1} = \\frac{1}{(n-1)}\\left[(2(n-2)+1) x P_{n-2} - (n-2) P_{n-3}\\right]\n",
    "\\end{align}\n",
    "\n",
    "\n",
    "En términos del vector $p$:\n",
    "\n",
    "\\begin{align}\n",
    "\\\\ p[n] = \\frac{1}{(n-1)}\\left[(2(n-2)+1) x p[n-1] - (n-2) p[n-2]\\right]\n",
    "\\end{align}\n",
    "\n",
    "la cual, es la fórmula que utilizaremos en el programa."
   ]
  },
  {
   "cell_type": "markdown",
   "metadata": {},
   "source": [
    "Si queremos calcular $P_{2}$, esto es:\n",
    "\\begin{align}\n",
    "\\\\ p[3] = P_{2}\n",
    "\\end{align}\n",
    "\n",
    "de donde vemos que $n=3$\n",
    "\n",
    "Aplicando la relación de recurrencia: \n",
    "\n",
    "\\begin{align}\n",
    "\\\\ P_{3-1} &= \\frac{1}{(3-1)}\\left[(2(3-2)+1) x P_{3-2} - (3-2) P_{3-3}\\right]&\n",
    "\\\\ P_{2} &= \\frac{1}{2}\\left[(2(1)+1) x P_{1} - (1) P_{0}\\right]&\n",
    "\\\\ P_{2} &= \\frac{1}{2}\\left[3 x P_{1} - P_{0}\\right]&\n",
    "\\end{align}\n",
    "\n",
    "Por otro lado, en términos del vector $p$:\n",
    "\n",
    "\\begin{align}\n",
    "\\\\ p[3] &= \\frac{1}{2}\\left[(2(1)+1) x p[2] - (1) p[1]\\right]&\n",
    "\\\\ p[3] &= \\frac{1}{2}\\left[3 x p[2] - p[1]\\right]&\n",
    "\\end{align}\n",
    "\n",
    "Como\n",
    "\n",
    "\\begin{align}\n",
    "\\\\ p[1] = P_{0} =1\n",
    "\\\\ p[2]= P_{1} = x\n",
    "\\end{align}\n",
    "\n",
    "\\begin{align}\n",
    "\\\\ P_{2} &= \\frac{1}{2}\\left[3 x^2 - 1\\right]&\n",
    "\\end{align}\n",
    "o bien\n",
    "\n",
    "\\begin{align}\n",
    "\\\\ p[3] &= \\frac{1}{2}\\left[3 x^2 - 1\\right]&\n",
    "\\end{align}"
   ]
  },
  {
   "cell_type": "markdown",
   "metadata": {},
   "source": [
    "## Código"
   ]
  },
  {
   "cell_type": "code",
   "execution_count": 1,
   "metadata": {
    "collapsed": false
   },
   "outputs": [],
   "source": [
    "using PyPlot\n",
    "#using Formatting"
   ]
  },
  {
   "cell_type": "code",
   "execution_count": 2,
   "metadata": {
    "collapsed": false
   },
   "outputs": [
    {
     "data": {
      "text/plain": [
       "p_legendre (generic function with 1 method)"
      ]
     },
     "execution_count": 2,
     "metadata": {},
     "output_type": "execute_result"
    }
   ],
   "source": [
    "function p_legendre(m,x)\n",
    "    \n",
    "    n=m+1\n",
    "    p=zeros(n)\n",
    "    \n",
    "   p[1]=1\n",
    "   p[2]=x\n",
    "    \n",
    "    if n==1\n",
    "        \n",
    "        return p[1]\n",
    "        \n",
    "    elseif n==2\n",
    "        \n",
    "        return p[2]\n",
    "        \n",
    "    else\n",
    "    \n",
    "        for i=3:n\n",
    "            p[i]=((2(i-2)+1)*x*p[i-1]-(i-2)p[i-2])/(i-1)\n",
    "            #p[i]=(((2*i))*x*p[i-1]-(i-1)*p[i-2])/(i+1)\n",
    "        end\n",
    "\n",
    "        return p\n",
    "    end\n",
    "    \n",
    "    \n",
    "    \n",
    "end    "
   ]
  },
  {
   "cell_type": "code",
   "execution_count": 3,
   "metadata": {
    "collapsed": false
   },
   "outputs": [
    {
     "data": {
      "text/plain": [
       "3-element Array{Float64,1}:\n",
       "  1.0\n",
       "  0.0\n",
       " -0.5"
      ]
     },
     "execution_count": 3,
     "metadata": {},
     "output_type": "execute_result"
    }
   ],
   "source": [
    "p_legendre(2,0)"
   ]
  },
  {
   "cell_type": "code",
   "execution_count": 4,
   "metadata": {
    "collapsed": false
   },
   "outputs": [
    {
     "data": {
      "text/plain": [
       "3-element Array{Float64,1}:\n",
       "  1.0\n",
       "  8.0\n",
       " 95.5"
      ]
     },
     "execution_count": 4,
     "metadata": {},
     "output_type": "execute_result"
    }
   ],
   "source": [
    "p_legendre(2,8)"
   ]
  },
  {
   "cell_type": "code",
   "execution_count": 5,
   "metadata": {
    "collapsed": false
   },
   "outputs": [
    {
     "data": {
      "image/png": "[encoded data removed]",
      "text/plain": [
       "PyPlot.Figure(PyObject <matplotlib.figure.Figure object at 0x7fcf49d66358>)"
      ]
     },
     "metadata": {},
     "output_type": "display_data"
    }
   ],
   "source": [
    "#Conjuntos de datos\n",
    "x = linspace(-1.5, 1.5, 1000)\n",
    "n=4\n",
    "y=[]\n",
    "for i=1:length(x)\n",
    "    yy= p_legendre(n,x[i])\n",
    "    y=push!(y,yy)        \n",
    "end \n",
    "\n",
    "#Gráfica\n",
    "\n",
    "fig,ax = subplots()\n",
    "ax[:set_ylim](-1, 2.0)\n",
    "ax[:set_xlim](-1, 1.0)\n",
    "title(\"Polinomios de Legendre\")#Título de la gráfica\n",
    "xlabel(\"\\$x\\$\") #Etiqueta para el eje X\n",
    "ylabel(\" \\$P_n (x)\\$\")#Etiqueta para el eje Y\n",
    " \n",
    "axhline(0, color=\"red\") \n",
    "grid()\n",
    "\n",
    "plot(x,y,label=\"\\$P_{n}(x)\\$\") #label=r\"$P_{}(x)$\".format(n)\n",
    " \n",
    "legend(loc=\"best\")\n",
    "show()"
   ]
  },
  {
   "cell_type": "markdown",
   "metadata": {},
   "source": [
    "# Referencias\n",
    "\n",
    "\n",
    "* http://www.frsn.utn.edu.ar/GIE/AN/IN/Polinomios_Legendre.pdf"
   ]
  },
  {
   "cell_type": "code",
   "execution_count": null,
   "metadata": {
    "collapsed": true
   },
   "outputs": [],
   "source": []
  }
 ],
 "metadata": {
  "kernelspec": {
   "display_name": "Julia 0.5.2",
   "language": "julia",
   "name": "julia-0.5"
  },
  "language_info": {
   "file_extension": ".jl",
   "mimetype": "application/julia",
   "name": "julia",
   "version": "0.5.2"
  }
 },
 "nbformat": 4,
 "nbformat_minor": 2
}
