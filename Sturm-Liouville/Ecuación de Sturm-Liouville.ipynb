{
 "cells": [
  {
   "cell_type": "markdown",
   "metadata": {},
   "source": [
    "# Ecuación de Sturm-Liouville"
   ]
  },
  {
   "cell_type": "markdown",
   "metadata": {},
   "source": [
    "## Ejercicios introductorios"
   ]
  },
  {
   "cell_type": "code",
   "execution_count": null,
   "metadata": {
    "collapsed": true
   },
   "outputs": [],
   "source": []
  },
  {
   "cell_type": "markdown",
   "metadata": {},
   "source": [
    "----"
   ]
  },
  {
   "cell_type": "markdown",
   "metadata": {},
   "source": [
    "### Ejercicios teóricos"
   ]
  },
  {
   "cell_type": "code",
   "execution_count": null,
   "metadata": {
    "collapsed": true
   },
   "outputs": [],
   "source": []
  },
  {
   "cell_type": "markdown",
   "metadata": {},
   "source": [
    "----"
   ]
  },
  {
   "cell_type": "markdown",
   "metadata": {},
   "source": [
    "### Ejercicios prácticos"
   ]
  },
  {
   "cell_type": "code",
   "execution_count": null,
   "metadata": {
    "collapsed": true
   },
   "outputs": [],
   "source": []
  },
  {
   "cell_type": "markdown",
   "metadata": {},
   "source": [
    "----"
   ]
  },
  {
   "cell_type": "markdown",
   "metadata": {
    "collapsed": true
   },
   "source": [
    "La ecuaciones que describieron los sistemas anteriores pueden ser generalizadas por medio de la **ecuación de Sturm-Liouville** (también conocida como  **ecuación del sistema Sturm-Liouville**):\n",
    " \\begin{align}\n",
    "{d\\over dx}\\left[p(x){d\\over dx}y(x)\\right]-q(x)y(x)+\\lambda r(x)y(x)=0\n",
    "\\end{align}\n",
    "\n",
    "De igual modo, las condiciones de frontera se generalizan a:\n",
    "\n",
    " \\begin{align}\n",
    "\\alpha_1 y(a)+\\alpha_2 y'(a)=0\\\\ \n",
    "\\beta_1y(b)+\\beta_2 y'(b)=0 \n",
    "\\end{align}\n",
    "\n",
    "donde $a<x<b$ \n",
    "\n",
    "Del sin fin de ecuaciones que se pueden formar a partir de la ecuación de Sturm-Liouville, en particular podemos obtener las ecuaciones diferenciales de **Bessel, Legendre, Hermite, Laguerre y Chebyshev**."
   ]
  },
  {
   "cell_type": "markdown",
   "metadata": {},
   "source": [
    "----"
   ]
  },
  {
   "cell_type": "markdown",
   "metadata": {},
   "source": [
    "**Ecuación de Chebyshev**: \n",
    "\n",
    "\\begin{align}\n",
    "\\\\ \\frac{d}{dx}\\left[\\sqrt{1-x^2}\\frac{dy}{dx}\\right]+\\frac{n^2}{\\sqrt{1-x^2}}y=0\n",
    "\\end{align}\n",
    "\n",
    "donde:\n",
    "\n",
    "\\begin{align}\n",
    "p(x)&=\\sqrt{1-x^2}&\n",
    " q(x)&=0\\\\\n",
    "r(x)&=\\frac{1}{\\sqrt{1-x^2}}&\n",
    "\\lambda&=n^2\n",
    "\\end{align}\n",
    "\n",
    "con\n",
    "$-1<x<1$ \n",
    "\n",
    "\n"
   ]
  },
  {
   "cell_type": "markdown",
   "metadata": {},
   "source": [
    "\n",
    "**Ecuación de Legendre**: \n",
    "\n",
    "\\begin{align}\n",
    "\\\\ \\frac{d}{dx}\\left[1-x^2\\frac{dy}{dx}\\right]+n(n+1)y=0\n",
    "\\end{align}\n",
    "\n",
    "donde:\n",
    "\n",
    "\\begin{align}\n",
    "p(x)&=1-x^2&\n",
    " q(x)&=0\\\\\n",
    "r(x)&=1&\n",
    "\\lambda&=n(n+1)\n",
    "\\end{align}\n",
    "\n",
    "con\n",
    "$-1\\leq x \\leq1$ \n",
    "\n"
   ]
  },
  {
   "cell_type": "markdown",
   "metadata": {},
   "source": [
    "**Ecuación de Bessel**:\n",
    "\n",
    "\\begin{align}\n",
    "\\\\ \\frac{d}{dx}\\left[x\\frac{dy}{dx}\\right]+\\left(x-\\frac{n^2}{x}\\right)y=0\n",
    "\\end{align}\n",
    "\n",
    "donde:\n",
    "\n",
    "\\begin{align}\n",
    "p(x)&=x&\n",
    " q(x)&=\\frac{-1}{x}\\\\\n",
    "r(x)&=x&\n",
    "\\lambda&=1?\n",
    "\\end{align}\n",
    "\n",
    "con\n",
    "$0<x<b$ \n",
    "\n",
    "**Nota**:Esta es solo una de la las formas de la ecuacción de Bessel, el resto se presenta en el notebook \"Ecuación de Bessel\""
   ]
  },
  {
   "cell_type": "markdown",
   "metadata": {},
   "source": [
    "----"
   ]
  },
  {
   "cell_type": "markdown",
   "metadata": {},
   "source": [
    "----"
   ]
  },
  {
   "cell_type": "markdown",
   "metadata": {
    "collapsed": true
   },
   "source": [
    "## Referencias\n",
    "\n",
    "* C. Henry Edwards,David E. Penney. (2009). ECUACIONES DIFERENCIALES: Y PROBLEMAS CON VALORES EN LA FRONTERA . EUA: Pearson Educación.\n",
    "* http://www.efunda.com/math/ode/sl_specialcases.cfm\n",
    "* https://books.google.com.mx/books?id=rSgbmnxoX5AC&pg=PA206&lpg=PA206&dq=ecuación+chebyshev&source=bl&ots=fHDo5x5sdR&sig=yYXbdnFaeJ4Vt2FHKoUaa_RdjBM&hl=es-419&sa=X&ved=0ahUKEwim5_-R5cbUAhXFeSYKHY5PCzAQ6AEIPTAD#v=onepage&q=ecuación%20chebyshev&f=false\n",
    "* http://www.iitg.ernet.in/physics/fac/charu/courses/ph402/SturmLiouville.pdf\n",
    "* http://www.math.niu.edu/SL2/papers/birk0.pdf\n",
    "* http://www.lawebdefisica.com/files/chuletarios/funcesp/funcesp.pdf"
   ]
  },
  {
   "cell_type": "code",
   "execution_count": null,
   "metadata": {
    "collapsed": true
   },
   "outputs": [],
   "source": []
  }
 ],
 "metadata": {
  "kernelspec": {
   "display_name": "Julia 0.5.2",
   "language": "julia",
   "name": "julia-0.5"
  },
  "language_info": {
   "file_extension": ".jl",
   "mimetype": "application/julia",
   "name": "julia",
   "version": "0.5.2"
  }
 },
 "nbformat": 4,
 "nbformat_minor": 2
}
