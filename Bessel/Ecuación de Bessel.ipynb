{
 "cells": [
  {
   "cell_type": "markdown",
   "metadata": {},
   "source": [
    "# Ecuación de Bessel"
   ]
  },
  {
   "cell_type": "markdown",
   "metadata": {},
   "source": [
    "## Ecuación de Bessel en términos de la ecuación de Sturm–Liouville "
   ]
  },
  {
   "cell_type": "markdown",
   "metadata": {},
   "source": [
    "Dada la ecuación de Sturm–Liouville \n",
    " \\begin{align}\n",
    "{d\\over dx}\\left[p(x){d\\over dx}y(x)\\right]-q(x)y(x)+\\lambda r(x)y(x)=0\n",
    "\\end{align}\n",
    "\n",
    "Con las condiciones de frontera:\n",
    "\n",
    " \\begin{align}\n",
    "\\alpha_1 y(a)+\\alpha_2 y'(a)=0\\\\ \n",
    "\\beta_1y(b)+\\beta_2 y'(b)=0 \n",
    "\\end{align}\n",
    "\n",
    "donde $a<x<b$ "
   ]
  },
  {
   "cell_type": "markdown",
   "metadata": {},
   "source": [
    "Podemos escribir **la ecuación diferencial de Bessel**:\n",
    "\n",
    "\\begin{align}\n",
    "\\\\ \\frac{d}{dx}\\left[x\\frac{dy}{dx}\\right]+\\left(x-\\frac{n^2}{x}\\right)y=0\n",
    "\\end{align}\n",
    "\n",
    "donde:\n",
    "\n",
    "\\begin{align}\n",
    "p(x)&=x&\n",
    " q(x)&=\\frac{-1}{x}\\\\\n",
    "r(x)&=x&\n",
    "\\lambda&=1?\n",
    "\\end{align}\n",
    "\n",
    "con\n",
    "$0<x<b$ "
   ]
  },
  {
   "cell_type": "markdown",
   "metadata": {},
   "source": [
    "En el caso de esta ecuación, nos encontramos con que hay varias formas de escribirla (ver [1]). Una versión importante de la ecuación de Bessel es la **ecuación diferencial paramétrica de Bessel**. Esta es usada para aplicaciones en fisica donde intervienen valores de frontera en los que se requiere encontrar los eigenvalores de ecuaciones diferenciales parciales expresadas en coordenadas cilíndricas."
   ]
  },
  {
   "cell_type": "markdown",
   "metadata": {},
   "source": [
    "## Ecuación paramétrica de Bessel en términos de la ecuación de Sturm–Liouville "
   ]
  },
  {
   "cell_type": "markdown",
   "metadata": {},
   "source": [
    "En términos de la ecuación de Sturm–Liouville, la **ecuación paramétrica de Bessel** se expresa (ver [7][8][2]):\n",
    "\n",
    "\\begin{align}\n",
    "\\\\ \\frac{d}{dx}\\left[x\\frac{dy}{dx}\\right]+\\left(v^2x-\\frac{n^2}{x}\\right)y=0\n",
    "\\end{align}\n",
    "\n",
    "donde:\n",
    "\n",
    "\\begin{align}\n",
    "p(x)&=x&\n",
    " q(x)&=\\frac{-n^2}{x}\\\\\n",
    "r(x)&=x&\n",
    "\\lambda&=v^2\n",
    "\\end{align}\n",
    "\n",
    "con\n",
    "$0<x<b ¿\\infty?$ "
   ]
  },
  {
   "cell_type": "markdown",
   "metadata": {},
   "source": [
    "## Ecuación de Bessel modificada en términos de la ecuación de Sturm–Liouville "
   ]
  },
  {
   "cell_type": "markdown",
   "metadata": {},
   "source": [
    "Podemos escribir **la ecuación diferencial de Bessel modificada**:\n",
    "\n",
    "\\begin{align}\n",
    "\\\\ \\frac{d}{dx}\\left[x\\frac{dy}{dx}\\right]-\\left(x+\\frac{n^2}{x}\\right)y=0\n",
    "\\end{align}\n",
    "\n",
    "donde:\n",
    "\n",
    "\\begin{align}\n",
    "p(x)&=x&\n",
    " q(x)&=\\frac{1}{x}\\\\\n",
    "r(x)&=x&\n",
    "\\lambda&=1?\n",
    "\\end{align}\n",
    "\n",
    "con\n",
    "$0<x<b$ "
   ]
  },
  {
   "cell_type": "markdown",
   "metadata": {},
   "source": [
    "## Ecuación paramétrica de Bessel modificada en términos de la ecuación de Sturm–Liouville "
   ]
  },
  {
   "cell_type": "markdown",
   "metadata": {},
   "source": [
    "Podemos escribir **la ecuación diferencial de Bessel modificada**:\n",
    "\n",
    "\\begin{align}\n",
    "\\\\ \\frac{d}{dx}\\left[x\\frac{dy}{dx}\\right]-\\left(v^2x+\\frac{n^2}{x}\\right)y=0\n",
    "\\end{align}\n",
    "\n",
    "donde:\n",
    "\n",
    "\\begin{align}\n",
    "p(x)&=x&\n",
    " q(x)&=\\frac{1}{x}\\\\\n",
    "r(x)&=x&\n",
    "\\lambda&=v^2\n",
    "\\end{align}\n",
    "\n",
    "con\n",
    "$0<x<b$ "
   ]
  },
  {
   "cell_type": "markdown",
   "metadata": {},
   "source": [
    "## Ecuación de Bessel "
   ]
  },
  {
   "cell_type": "markdown",
   "metadata": {},
   "source": [
    "Ahora escribiremos la ecuación de Bessel en una forma más usual, es decir, de la forma en la que se le encuentra en la mayoria de los textos.\n",
    "\n",
    "como $y'=\\frac{dy}{dx}$ tenemos que la ecuación de Bessel se vuelve:\n",
    "\\begin{align}\n",
    "\\\\ \\frac{d}{dx}\\left[xy'\\right]+\\left(x-\\frac{n^2}{x}\\right)y=0\n",
    "\\end{align}\n",
    "\n",
    "Aplicamos la fórmula para la derivada del producto de funciones al término $\\frac{d}{dx}\\left[xy'\\right]$ :\n",
    "\n",
    "\\begin{align}\n",
    "\\\\f'=u'v+v'u\n",
    "\\end{align}\n",
    "\n",
    "\\begin{align}\n",
    "u&=x&\n",
    "v&=y'\\\\\n",
    "u'&=1&\n",
    "v'&=y''\n",
    "\\end{align}\n",
    "\n",
    "entonces\n",
    "\n",
    "\\begin{align}\n",
    "\\\\\\frac{d}{dx}\\left[xy'\\right]=(1)y'+y''x= xy''+y'\n",
    "\\end{align}\n",
    "\n",
    "Sustituyendo en la ecuación de Bessel\n",
    "\n",
    "\\begin{align}\n",
    "\\\\ xy''+y'+\\left(x-\\frac{n^2}{x}\\right)y=0\n",
    "\\end{align}\n",
    "\n",
    "multiplicando por $x$\n",
    "\n",
    "\\begin{align}\n",
    "\\\\ x^2y''+xy'+\\left(x^2-n^2\\right)y=0\n",
    "\\end{align}\n"
   ]
  },
  {
   "cell_type": "markdown",
   "metadata": {},
   "source": [
    "## Ecuación paramétrica de Bessel"
   ]
  },
  {
   "cell_type": "markdown",
   "metadata": {},
   "source": [
    "Obtenemos la ecuación paramétrica de Bessel modificada en una forma más usual de la siguiente manera:\n",
    "\n",
    "Ya que $y'=\\frac{dy}{dx}$ tenemos que la ecuación de Bessel se vuelve:\n",
    "\\begin{align}\n",
    "\\\\ \\frac{d}{dx}\\left[x\\frac{dy}{dx}\\right]+\\left(v^2x-\\frac{n^2}{x}\\right)y=0\n",
    "\\end{align}\n",
    "\n",
    "Aplicamos la fórmula para la derivada del producto de funciones al término $\\frac{d}{dx}\\left[xy'\\right]$ :\n",
    "\n",
    "\\begin{align}\n",
    "\\\\f'=u'v+v'u\n",
    "\\end{align}\n",
    "\n",
    "\\begin{align}\n",
    "u&=x&\n",
    "v&=y'\\\\\n",
    "u'&=1&\n",
    "v'&=y''\n",
    "\\end{align}\n",
    "\n",
    "entonces\n",
    "\n",
    "\\begin{align}\n",
    "\\\\\\frac{d}{dx}\\left[xy'\\right]=(1)y'+y''x= xy''+y'\n",
    "\\end{align}\n",
    "\n",
    "Sustituyendo en la ecuación de Bessel\n",
    "\n",
    "\\begin{align}\n",
    "\\\\ xy''+y'+\\left(v^2x-\\frac{n^2}{x}\\right)y=0\n",
    "\\end{align}\n",
    "\n",
    "multiplicando por $x$\n",
    "\n",
    "\\begin{align}\n",
    "\\\\ x^2y''+xy'+\\left(v^2x^2-n^2\\right)y=0\n",
    "\\end{align}\n"
   ]
  },
  {
   "cell_type": "markdown",
   "metadata": {},
   "source": [
    "## Ecuación de Bessel modificada"
   ]
  },
  {
   "cell_type": "markdown",
   "metadata": {},
   "source": [
    "Obtenemos la ecuación de Bessel modificada en una forma más usual de la siguiente manera:\n",
    "\n",
    "Dado que $y'=\\frac{dy}{dx}$ tenemos que la ecuación de Bessel se vuelve:\n",
    "\\begin{align}\n",
    "\\\\ \\frac{d}{dx}\\left[xy'\\right]-\\left(x+\\frac{n^2}{x}\\right)y=0\n",
    "\\end{align}\n",
    "\n",
    "Aplicamos la fórmula para la derivada del producto de funciones al término $\\frac{d}{dx}\\left[xy'\\right]$ :\n",
    "\n",
    "\\begin{align}\n",
    "\\\\f'=u'v+v'u\n",
    "\\end{align}\n",
    "\n",
    "\\begin{align}\n",
    "u&=x&\n",
    "v&=y'\\\\\n",
    "u'&=1&\n",
    "v'&=y''\n",
    "\\end{align}\n",
    "\n",
    "entonces\n",
    "\n",
    "\\begin{align}\n",
    "\\\\\\frac{d}{dx}\\left[xy'\\right]=(1)y'+y''x= xy''+y'\n",
    "\\end{align}\n",
    "\n",
    "Sustituyendo en la ecuación de Bessel\n",
    "\n",
    "\\begin{align}\n",
    "\\\\ xy''+y'-\\left(x+\\frac{n^2}{x}\\right)y=0\n",
    "\\end{align}\n",
    "\n",
    "multiplicando por $x$\n",
    "\n",
    "\\begin{align}\n",
    "\\\\ x^2y''+xy'-\\left(x^2+n^2\\right)y=0\n",
    "\\end{align}\n"
   ]
  },
  {
   "cell_type": "markdown",
   "metadata": {},
   "source": [
    "## Ecuación paramétrica de Bessel modificada"
   ]
  },
  {
   "cell_type": "markdown",
   "metadata": {},
   "source": [
    "Obtenemos la ecuación paramétrica de Bessel modificada en una forma más usual de la siguiente manera:\n",
    "\n",
    "Dado que $y'=\\frac{dy}{dx}$ tenemos que la ecuación de Bessel se vuelve:\n",
    "\\begin{align}\n",
    "\\\\ \\frac{d}{dx}\\left[xy'\\right]-\\left(v^2x+\\frac{n^2}{x}\\right)y=0\n",
    "\\end{align}\n",
    "\n",
    "Aplicamos la fórmula para la derivada del producto de funciones al término $\\frac{d}{dx}\\left[xy'\\right]$ :\n",
    "\n",
    "\\begin{align}\n",
    "\\\\f'=u'v+v'u\n",
    "\\end{align}\n",
    "\n",
    "\\begin{align}\n",
    "u&=x&\n",
    "v&=y'\\\\\n",
    "u'&=1&\n",
    "v'&=y''\n",
    "\\end{align}\n",
    "\n",
    "entonces\n",
    "\n",
    "\\begin{align}\n",
    "\\\\\\frac{d}{dx}\\left[xy'\\right]=(1)y'+y''x= xy''+y'\n",
    "\\end{align}\n",
    "\n",
    "Sustituyendo en la ecuación de Bessel\n",
    "\n",
    "\\begin{align}\n",
    "\\\\ xy''+y'-\\left(v^2x+\\frac{n^2}{x}\\right)y=0\n",
    "\\end{align}\n",
    "\n",
    "multiplicando por $x$\n",
    "\n",
    "\\begin{align}\n",
    "\\\\ x^2y''+xy'-\\left(v^2x^2+n^2\\right)y=0\n",
    "\\end{align}"
   ]
  },
  {
   "cell_type": "markdown",
   "metadata": {},
   "source": [
    "Podemos resumir los resultados anteriores en la siguiente tabla:\n",
    "\n",
    "||  Forma Sturm-Liouville |Forma usual   |   Condiciones de frontera|\n",
    "|---|---|---|---|\n",
    "|Ecuación de Bessel|$ \\frac{d}{dx}\\left[x\\frac{dy}{dx}\\right]+\\left(x-\\frac{n^2}{x}\\right)y=0$  |  $ x^2y''+xy'+\\left(x^2-n^2\\right)y=0$ |    $0<x<\\infty$  |\n",
    "|Ecuación paramétrica de Bessel|$\\frac{d}{dx}\\left[x\\frac{dy}{dx}\\right]+\\left(v^2x-\\frac{n^2}{x}\\right)y=0$  | $x^2y''+xy'+\\left(v^2x^2-n^2\\right)y=0$  |    $0<x<\\infty$  |\n",
    "|Ecuación de Bessel modificada| $\\frac{d}{dx}\\left[x\\frac{dy}{dx}\\right]-\\left(x+\\frac{n^2}{x}\\right)y=0$  | $x^2y''+xy'-\\left(x^2+n^2\\right)y=0$  |   $0<x<\\infty$   |\n",
    "|Ecuación de paramétrica de Bessel modificada|$ \\frac{d}{dx}\\left[x\\frac{dy}{dx}\\right]-\\left(v^2x+\\frac{n^2}{x}\\right)y=0$   |  $ x^2y''+xy'-\\left(v^2x^2+n^2\\right)y=0$ |   $0<x<\\infty$ |"
   ]
  },
  {
   "cell_type": "markdown",
   "metadata": {
    "collapsed": true
   },
   "source": [
    "## Soluciones"
   ]
  },
  {
   "cell_type": "code",
   "execution_count": null,
   "metadata": {
    "collapsed": true
   },
   "outputs": [],
   "source": []
  },
  {
   "cell_type": "markdown",
   "metadata": {},
   "source": [
    "### Relación de recurrencia"
   ]
  },
  {
   "cell_type": "code",
   "execution_count": null,
   "metadata": {
    "collapsed": true
   },
   "outputs": [],
   "source": []
  },
  {
   "cell_type": "markdown",
   "metadata": {},
   "source": [
    "## Código"
   ]
  },
  {
   "cell_type": "code",
   "execution_count": 5,
   "metadata": {
    "collapsed": true
   },
   "outputs": [],
   "source": [
    "using PyPlot"
   ]
  },
  {
   "cell_type": "code",
   "execution_count": 3,
   "metadata": {
    "collapsed": false
   },
   "outputs": [
    {
     "name": "stderr",
     "output_type": "stream",
     "text": [
      "WARNING: Method definition f_bessel_esferica(Any, Any) in module Main at In[1]:3 overwritten at In[3]:3.\n"
     ]
    },
    {
     "data": {
      "text/plain": [
       "f_bessel_esferica (generic function with 1 method)"
      ]
     },
     "execution_count": 3,
     "metadata": {},
     "output_type": "execute_result"
    }
   ],
   "source": [
    "function f_bessel_esferica(m,x)\n",
    "    \n",
    "    n=m+1\n",
    "    j=zeros(n)\n",
    "    \n",
    "   j[1]=sin(x)/x\n",
    "   j[2]=(j[1]-cos(x))/x\n",
    "    \n",
    "    if n==1\n",
    "        \n",
    "        return j[1]\n",
    "        \n",
    "    elseif n==2\n",
    "        \n",
    "        return j[2]\n",
    "        \n",
    "    else\n",
    "    \n",
    "        for i=3:n\n",
    "            j[i]=x*(j[i-1]+j[i-2])/(2*i+1)\n",
    "            \n",
    "        end\n",
    "\n",
    "        return j\n",
    "    end\n",
    "    \n",
    "    \n",
    "    \n",
    "end    "
   ]
  },
  {
   "cell_type": "code",
   "execution_count": 9,
   "metadata": {
    "collapsed": false
   },
   "outputs": [
    {
     "data": {
      "image/png": "[encoded data removed]",
      "text/plain": [
       "PyPlot.Figure(PyObject <matplotlib.figure.Figure object at 0x7ff7c58a60b8>)"
      ]
     },
     "metadata": {},
     "output_type": "display_data"
    }
   ],
   "source": [
    "#Conjuntos de datos\n",
    "x = linspace(-1.5, 1.5, 1000)\n",
    "n=4\n",
    "y=[]\n",
    "for i=1:length(x)\n",
    "    yy= f_bessel_esferica(n,x[i])\n",
    "    y=push!(y,yy)        \n",
    "end \n",
    "\n",
    "#Gráfica\n",
    "\n",
    "fig,ax = subplots()\n",
    "#ax[:set_ylim](-1, 2.0)\n",
    "#ax[:set_xlim](-1, 1.0)\n",
    "title(\"Funciones de Bessel\")#Título de la gráfica\n",
    "xlabel(\"\\$x\\$\") #Etiqueta para el eje X\n",
    "ylabel(\" \\$J_n (x)\\$\")#Etiqueta para el eje Y\n",
    " \n",
    "axhline(0, color=\"red\") \n",
    "grid()\n",
    "\n",
    "plot(x,y,label=\"\\$J_{n}(x)\\$\") #label=r\"$P_{}(x)$\".format(n)\n",
    " \n",
    "legend(loc=\"best\")\n",
    "show()"
   ]
  },
  {
   "cell_type": "markdown",
   "metadata": {},
   "source": [
    "## Referencias\n",
    "\n",
    "* [1] http://www.math.niu.edu/SL2/papers/birk0.pdf\n",
    "* [2] https://www.encyclopediaofmath.org/index.php/Bessel_equation\n",
    "* [3] http://www4.ncsu.edu/~lkn/MA401/handouts/BesselFunctions/BesselFunctions.html\n",
    "* [4] Dennis G. Zill, Michael Cullen, Warren S. Wright. (2012). DIFFERENTIAL EQUATIONS WITH BOUNDARY-VALUE PROBLEMS. CA, United States: Brooks/Cole. p 260: https://books.google.com.mx/books?id=0UX8e0xdOr0C&pg=PA260&lpg=PA260&dq=bessel+equation+bessel+equation+parametric&source=bl&ots=KPkfvkKRmf&sig=U51MWpmEv5wdgryVYNUr53dcckg&hl=es-419&sa=X&ved=0ahUKEwidz5X4q8vUAhXI2yYKHS5ICJo4FBDoAQghMAA#v=onepage&q=bessel%20equation%20bessel%20equation%20parametric&f=false\n",
    "* [5] Sandro Salsa, Gianmaria Verzini. (2015). Partial Differential Equations in Action Complements and Exercises. Suiza: Springer International Publishing AG, p 410 :https://books.google.com.mx/books?id=KlnACQAAQBAJ&pg=PA410&lpg=PA410&dq=bessel+parametric++equation+Sturm-liouville&source=bl&ots=L2K4iFwuKH&sig=jRJMySiz8EAqIDizH_aGDPF7KIQ&hl=es-419&sa=X&ved=0ahUKEwihqNuQ1crUAhXHMyYKHSp2C2cQ6AEIajAI#v=onepage&q=bessel%20parametric%20%20equation%20Sturm-liouville&f=false\n",
    "* [6] Bernd S. W. Schroder. (2010). A Workbook for Differential Equations. Hoboken United States: John Wiley and Sons Ltd. p 245: https://books.google.com.mx/books?id=KnDv68KMxIQC&pg=PA245&lpg=PA245&dq=bessel+equation+parametric&source=bl&ots=GWeE3FtDu4&sig=bmRZx6qdVceJlF6_587V5dCvkxw&hl=es-419&sa=X&ved=0ahUKEwjYqbWZ98rUAhXCwiYKHSBCD9cQ6AEISjAE#v=onepage&q=bessel%20equation%20parametric&f=false\n",
    "* [7] http://www.efunda.com/math/ode/sl_specialcases.cfm\n",
    "* [8] Pryce John D. (1993). Numerical Solution of Sturm-Liouville Problems. UK: Clarendon Press.p 38\n",
    "* [9] http://onlinelibrary.wiley.com/doi/10.1002/9780470495056.app3/pdf"
   ]
  },
  {
   "cell_type": "code",
   "execution_count": null,
   "metadata": {
    "collapsed": true
   },
   "outputs": [],
   "source": []
  },
  {
   "cell_type": "code",
   "execution_count": null,
   "metadata": {
    "collapsed": true
   },
   "outputs": [],
   "source": []
  }
 ],
 "metadata": {
  "kernelspec": {
   "display_name": "Julia 0.5.2",
   "language": "julia",
   "name": "julia-0.5"
  },
  "language_info": {
   "file_extension": ".jl",
   "mimetype": "application/julia",
   "name": "julia",
   "version": "0.5.2"
  }
 },
 "nbformat": 4,
 "nbformat_minor": 2
}
